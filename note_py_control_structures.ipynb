{
 "cells": [
  {
   "cell_type": "markdown",
   "id": "01bdbfbc",
   "metadata": {},
   "source": [
    "# Control Structures"
   ]
  },
  {
   "cell_type": "markdown",
   "id": "3e3f7456",
   "metadata": {},
   "source": [
    "COMMAND + ? = SUPER COMMENT\n",
    "\n",
    "What are they: Commands that enable a program to know which direction to go. Aka controls the 'flow' of the program\n",
    "\n",
    "There are different kinds of flow: \n",
    "- sequential flow (top to bottom)\n",
    "- conditional flow \n",
    "- repetitive flow (over and over)"
   ]
  },
  {
   "cell_type": "markdown",
   "id": "edb550c3",
   "metadata": {},
   "source": [
    "Why do we care: These are building blocks in programming that allows us to do a lot of cool things! "
   ]
  },
  {
   "cell_type": "markdown",
   "id": "f7ad28a1",
   "metadata": {},
   "source": [
    "## Conditional flow"
   ]
  },
  {
   "cell_type": "markdown",
   "id": "ca216a29",
   "metadata": {},
   "source": [
    "opener: whats the difference between the following code commands?"
   ]
  },
  {
   "cell_type": "code",
   "execution_count": 1,
   "id": "6b1e13d8",
   "metadata": {},
   "outputs": [],
   "source": [
    "breakfast = 'coffee'\n",
    "# variable assignment"
   ]
  },
  {
   "cell_type": "code",
   "execution_count": 3,
   "id": "7883d73c",
   "metadata": {},
   "outputs": [
    {
     "data": {
      "text/plain": [
       "True"
      ]
     },
     "execution_count": 3,
     "metadata": {},
     "output_type": "execute_result"
    }
   ],
   "source": [
    "breakfast == 'coffee'\n",
    "# conditional operator"
   ]
  },
  {
   "cell_type": "markdown",
   "id": "edaa6afd",
   "metadata": {},
   "source": [
    "- the single = is setting the variable\n",
    "- the double equals == is checking a condition"
   ]
  },
  {
   "cell_type": "markdown",
   "id": "a0d8ed4d",
   "metadata": {},
   "source": [
    "### IF statement"
   ]
  },
  {
   "cell_type": "markdown",
   "id": "f08c0e7e",
   "metadata": {},
   "source": [
    "#### IF\n",
    "-- if this condition is true, do this action"
   ]
  },
  {
   "cell_type": "code",
   "execution_count": null,
   "id": "5a73dfcb",
   "metadata": {},
   "outputs": [],
   "source": [
    "# FORMAT:\n",
    "# if [condition_to_check]:\n",
    "#     [do_this_if_TRUE]"
   ]
  },
  {
   "cell_type": "code",
   "execution_count": 5,
   "id": "3e181c10",
   "metadata": {},
   "outputs": [
    {
     "data": {
      "text/plain": [
       "'coffee'"
      ]
     },
     "execution_count": 5,
     "metadata": {},
     "output_type": "execute_result"
    }
   ],
   "source": [
    "breakfast"
   ]
  },
  {
   "cell_type": "markdown",
   "id": "deb5ee9a",
   "metadata": {},
   "source": [
    "## note: white space matters in python!"
   ]
  },
  {
   "cell_type": "code",
   "execution_count": 7,
   "id": "7ad08d37",
   "metadata": {},
   "outputs": [
    {
     "name": "stdout",
     "output_type": "stream",
     "text": [
      "yes you had coffee for breakfast\n"
     ]
    }
   ],
   "source": [
    "if breakfast == 'coffee':\n",
    "    print('yes you had coffee for breakfast')"
   ]
  },
  {
   "cell_type": "markdown",
   "id": "59454515",
   "metadata": {},
   "source": [
    "#### syntax"
   ]
  },
  {
   "cell_type": "markdown",
   "id": "d582e5c2",
   "metadata": {},
   "source": [
    "- after your conditional statement, always include that colon :\n",
    "- whatever you want to execute, put on a new line and indent"
   ]
  },
  {
   "cell_type": "markdown",
   "id": "35ff9eab",
   "metadata": {},
   "source": [
    "#### more examples"
   ]
  },
  {
   "cell_type": "code",
   "execution_count": null,
   "id": "8077060a",
   "metadata": {},
   "outputs": [],
   "source": [
    "awake = False"
   ]
  },
  {
   "cell_type": "code",
   "execution_count": 10,
   "id": "66e21ff0",
   "metadata": {},
   "outputs": [
    {
     "name": "stdout",
     "output_type": "stream",
     "text": [
      "yes you had coffee for breakfast\n",
      "5\n"
     ]
    }
   ],
   "source": [
    "if breakfast == 'coffee':\n",
    "    print('yes you had coffee for breakfast')\n",
    "    awake = True\n",
    "    print (2+3)"
   ]
  },
  {
   "cell_type": "markdown",
   "id": "31f926e2",
   "metadata": {},
   "source": [
    "- as long as it is indented, it WILL be included"
   ]
  },
  {
   "cell_type": "code",
   "execution_count": 12,
   "id": "3f890b97",
   "metadata": {},
   "outputs": [],
   "source": [
    "if breakfast == 'cereal':\n",
    "    print('yay cereal!')"
   ]
  },
  {
   "cell_type": "markdown",
   "id": "fb55de59",
   "metadata": {},
   "source": [
    "> if the first statement is FALSE then it stops there and will not execute the rest of the indented statements"
   ]
  },
  {
   "cell_type": "markdown",
   "id": "af967760",
   "metadata": {},
   "source": [
    "**troubleshooting**"
   ]
  },
  {
   "cell_type": "code",
   "execution_count": 13,
   "id": "25c21400",
   "metadata": {},
   "outputs": [],
   "source": [
    "weather = 'rain'"
   ]
  },
  {
   "cell_type": "markdown",
   "id": "7ba6cd7f",
   "metadata": {},
   "source": [
    "Whats wrong with the following code? Look at the error statements before fixing. "
   ]
  },
  {
   "cell_type": "code",
   "execution_count": 14,
   "id": "a5180be8",
   "metadata": {},
   "outputs": [
    {
     "ename": "SyntaxError",
     "evalue": "invalid syntax (2469385136.py, line 1)",
     "output_type": "error",
     "traceback": [
      "\u001b[0;36m  File \u001b[0;32m\"/var/folders/26/y7jmy96d6tx38pgw7pxw_dpm0000gn/T/ipykernel_24726/2469385136.py\"\u001b[0;36m, line \u001b[0;32m1\u001b[0m\n\u001b[0;31m    if weather = 'rain': #only one equal sign!\u001b[0m\n\u001b[0m               ^\u001b[0m\n\u001b[0;31mSyntaxError\u001b[0m\u001b[0;31m:\u001b[0m invalid syntax\n"
     ]
    }
   ],
   "source": [
    "if weather = 'rain': #only one equal sign!\n",
    "     print('yes, it is rainy outside today')"
   ]
  },
  {
   "cell_type": "code",
   "execution_count": null,
   "id": "8c52a999",
   "metadata": {},
   "outputs": [],
   "source": [
    "if weather == rain: #rain is not defined - no quotes\n",
    "     print('yes, it is rainy outside today')"
   ]
  },
  {
   "cell_type": "code",
   "execution_count": null,
   "id": "25102110",
   "metadata": {},
   "outputs": [],
   "source": [
    "if weather == 'rain': #the indentation is not indented\n",
    "print('yes, it is rainy outside today')"
   ]
  },
  {
   "cell_type": "code",
   "execution_count": null,
   "id": "3e7a2b21",
   "metadata": {},
   "outputs": [],
   "source": [
    "if weather == 'rain' #there is no colon\n",
    "     print('yes, it is rainy outside today')"
   ]
  },
  {
   "cell_type": "markdown",
   "id": "a0848fb2",
   "metadata": {},
   "source": [
    "#### IF/ELSE\n",
    "-- if this condition is true, do this action, if nothing else is true, do this"
   ]
  },
  {
   "cell_type": "code",
   "execution_count": null,
   "id": "75214405",
   "metadata": {},
   "outputs": [],
   "source": [
    "# FORMAT:\n",
    "# if [condition_to_check]:\n",
    "#     [do_this_if_TRUE]\n",
    "# else:\n",
    "#     [do_this_if_FALSE]"
   ]
  },
  {
   "cell_type": "code",
   "execution_count": 17,
   "id": "83299bcd",
   "metadata": {},
   "outputs": [
    {
     "name": "stdout",
     "output_type": "stream",
     "text": [
      "no breakfast\n",
      "you should probably eat breakfast\n"
     ]
    }
   ],
   "source": [
    "if breakfast == 'banana':\n",
    "    print('yay banana!')\n",
    "else:\n",
    "    print('no breakfast')\n",
    "    print('you should probably eat breakfast')"
   ]
  },
  {
   "cell_type": "markdown",
   "id": "d6ccbe4b",
   "metadata": {},
   "source": [
    "#### syntax"
   ]
  },
  {
   "cell_type": "markdown",
   "id": "c8344676",
   "metadata": {},
   "source": [
    "> note: the indentations and new lines"
   ]
  },
  {
   "cell_type": "markdown",
   "id": "6d220b1a",
   "metadata": {},
   "source": [
    "#### IF/ELIF/ELSE\n",
    "-- if this condition is true, do this action, else if this other condition is true, do something else, if nothing is true, do this"
   ]
  },
  {
   "cell_type": "code",
   "execution_count": null,
   "id": "d5011946",
   "metadata": {},
   "outputs": [],
   "source": [
    "# FORMAT:\n",
    "# if [condition_to_check]:\n",
    "#     [do_this_if_TRUE]\n",
    "# elif [condition_to_check]:\n",
    "#     [do_this_if_TRUE]\n",
    "# else:\n",
    "#     [do_this_if_TRUE]"
   ]
  },
  {
   "cell_type": "code",
   "execution_count": 18,
   "id": "fd8df4bc",
   "metadata": {},
   "outputs": [
    {
     "name": "stdout",
     "output_type": "stream",
     "text": [
      "coffee\n"
     ]
    }
   ],
   "source": [
    "if breakfast == 'coffee':\n",
    "    print('coffee')\n",
    "elif weather == 'rain':\n",
    "    print('it rains')\n",
    "else:\n",
    "    print('no coffee and sunshine')"
   ]
  },
  {
   "cell_type": "markdown",
   "id": "cb6851c6",
   "metadata": {},
   "source": [
    "- as long as ONE statement is true, it will execute and then exit the IF statements"
   ]
  },
  {
   "cell_type": "markdown",
   "id": "dda74556",
   "metadata": {},
   "source": [
    "#### double if?"
   ]
  },
  {
   "cell_type": "code",
   "execution_count": 19,
   "id": "3576ecc4",
   "metadata": {},
   "outputs": [
    {
     "name": "stdout",
     "output_type": "stream",
     "text": [
      "coffee\n",
      "it rains\n"
     ]
    }
   ],
   "source": [
    "if breakfast == 'coffee':\n",
    "    print('coffee')\n",
    "    \n",
    "if weather == 'rain': # not using elif statement: making it a new statement\n",
    "    print('it rains')\n",
    "else:\n",
    "    print('no coffee and sunshine')"
   ]
  },
  {
   "cell_type": "markdown",
   "id": "f63dd3c7",
   "metadata": {},
   "source": [
    "#### check multiple conditions?"
   ]
  },
  {
   "cell_type": "markdown",
   "id": "95b0384c",
   "metadata": {},
   "source": [
    "> use AND/OR"
   ]
  },
  {
   "cell_type": "markdown",
   "id": "4976c16e",
   "metadata": {},
   "source": [
    "## Repetitive Flow (loops)"
   ]
  },
  {
   "cell_type": "markdown",
   "id": "5fbea5fc",
   "metadata": {},
   "source": [
    "### While loop\n",
    "-- do some action over and over again while a condition is true"
   ]
  },
  {
   "cell_type": "code",
   "execution_count": null,
   "id": "2ac6b75b",
   "metadata": {},
   "outputs": [],
   "source": [
    "# FORMAT: \n",
    "# while [condition]:\n",
    "#     [repeat_this_while_condition_is_true]"
   ]
  },
  {
   "cell_type": "code",
   "execution_count": 21,
   "id": "ed75c871",
   "metadata": {},
   "outputs": [
    {
     "name": "stdout",
     "output_type": "stream",
     "text": [
      "1\n",
      "2\n",
      "3\n",
      "4\n",
      "5\n"
     ]
    }
   ],
   "source": [
    "x = 1\n",
    "\n",
    "while x < 5:\n",
    "    print(x)\n",
    "    x = x + 1\n",
    "    \n",
    "print(x)"
   ]
  },
  {
   "cell_type": "markdown",
   "id": "38cf3e37",
   "metadata": {},
   "source": [
    "#### syntax"
   ]
  },
  {
   "cell_type": "markdown",
   "id": "a24073d1",
   "metadata": {},
   "source": [
    " - need the colon after the conditional statement\n",
    " - will run until NOT true"
   ]
  },
  {
   "cell_type": "markdown",
   "id": "bc377559",
   "metadata": {},
   "source": [
    "#### whats happening in the above code?"
   ]
  },
  {
   "cell_type": "markdown",
   "id": "96de4f5f",
   "metadata": {},
   "source": [
    "- setting x to 1\n",
    "- then checking if x < 5\n",
    "- printing x\n",
    "- then setting x = x + 1\n",
    "- looping until NOT true"
   ]
  },
  {
   "cell_type": "markdown",
   "id": "68f9d5bd",
   "metadata": {},
   "source": [
    "#### another example"
   ]
  },
  {
   "cell_type": "code",
   "execution_count": 25,
   "id": "4d7f7e0d",
   "metadata": {},
   "outputs": [
    {
     "name": "stdout",
     "output_type": "stream",
     "text": [
      "1\n"
     ]
    }
   ],
   "source": [
    "x = 1\n",
    "\n",
    "while x > 10:\n",
    "    print(x)\n",
    "    x = x + 1\n",
    "    \n",
    "print(x)"
   ]
  },
  {
   "cell_type": "markdown",
   "id": "873b55b8",
   "metadata": {},
   "source": [
    "#### troubleshoot"
   ]
  },
  {
   "cell_type": "markdown",
   "id": "415a3282",
   "metadata": {},
   "source": [
    "### For loop\n",
    "-- allows you to iterate over a sequence"
   ]
  },
  {
   "cell_type": "code",
   "execution_count": null,
   "id": "d6c95326",
   "metadata": {},
   "outputs": [],
   "source": [
    "# FORMAT: \n",
    "# for [iterator] in [sequence]:\n",
    "#     [do_this_usually_on_iterator]"
   ]
  },
  {
   "cell_type": "code",
   "execution_count": 27,
   "id": "d03ab58c",
   "metadata": {},
   "outputs": [
    {
     "data": {
      "text/plain": [
       "[1, 23, 5, 6, -1]"
      ]
     },
     "execution_count": 27,
     "metadata": {},
     "output_type": "execute_result"
    }
   ],
   "source": [
    "ls = [1,23,5,6,-1]\n",
    "ls"
   ]
  },
  {
   "cell_type": "code",
   "execution_count": 29,
   "id": "fff4042f",
   "metadata": {},
   "outputs": [
    {
     "name": "stdout",
     "output_type": "stream",
     "text": [
      "1\n",
      "23\n",
      "5\n",
      "6\n",
      "-1\n"
     ]
    }
   ],
   "source": [
    "for x in ls: # this x is just a placeholder for each value and will retain the last value in the list\n",
    "    print(x)"
   ]
  },
  {
   "cell_type": "markdown",
   "id": "64d03d25",
   "metadata": {},
   "source": [
    "#### syntax:"
   ]
  },
  {
   "cell_type": "markdown",
   "id": "fdb21bf6",
   "metadata": {},
   "source": [
    "- colon at the end of whatever we want to execute\n",
    "- what we want to execute has to be indented"
   ]
  },
  {
   "cell_type": "markdown",
   "id": "02f014da",
   "metadata": {},
   "source": [
    "Q: what is it the sequence in the above loop?\n",
    "\n",
    "A: ls\n",
    "\n",
    "Q: what is the iterator in the above loop?\n",
    "\n",
    "A: x"
   ]
  },
  {
   "cell_type": "markdown",
   "id": "a67e2f4d",
   "metadata": {},
   "source": [
    "#### the iterator can be any variable you want"
   ]
  },
  {
   "cell_type": "code",
   "execution_count": 30,
   "id": "c89b156a",
   "metadata": {},
   "outputs": [
    {
     "data": {
      "text/plain": [
       "[1, 23, 5, 6, -1]"
      ]
     },
     "execution_count": 30,
     "metadata": {},
     "output_type": "execute_result"
    }
   ],
   "source": [
    "ls"
   ]
  },
  {
   "cell_type": "code",
   "execution_count": 31,
   "id": "dd3485d2",
   "metadata": {},
   "outputs": [
    {
     "name": "stdout",
     "output_type": "stream",
     "text": [
      "1\n",
      "23\n",
      "5\n",
      "6\n",
      "-1\n"
     ]
    }
   ],
   "source": [
    "for random in ls:\n",
    "    print(random)"
   ]
  },
  {
   "cell_type": "code",
   "execution_count": 35,
   "id": "d5501ed9",
   "metadata": {
    "scrolled": true
   },
   "outputs": [
    {
     "name": "stdout",
     "output_type": "stream",
     "text": [
      "[1, 23, 5, 6, -1]\n",
      "[1, 23, 5, 6, -1]\n",
      "[1, 23, 5, 6, -1]\n",
      "[1, 23, 5, 6, -1]\n",
      "[1, 23, 5, 6, -1]\n"
     ]
    }
   ],
   "source": [
    "for x in ls: # this x is just a placeholder for each value and will retain the last value in the list\n",
    "    print(ls)"
   ]
  },
  {
   "cell_type": "code",
   "execution_count": 34,
   "id": "7cd99345",
   "metadata": {},
   "outputs": [
    {
     "name": "stdout",
     "output_type": "stream",
     "text": [
      "2\n",
      "4\n",
      "1.6\n",
      "2\n",
      "3\n"
     ]
    }
   ],
   "source": [
    "numbers = [2,4,1.6,2,3] # by assigning the list as a plural, you can retrieve the singular in the following For Loop\n",
    "for number in numbers:\n",
    "    print(number)"
   ]
  },
  {
   "cell_type": "markdown",
   "id": "d42b05ac",
   "metadata": {},
   "source": [
    ">> ### explicit variables are going to be your friend"
   ]
  },
  {
   "cell_type": "markdown",
   "id": "7e50a40a",
   "metadata": {},
   "source": [
    "#### execute all the things"
   ]
  },
  {
   "cell_type": "code",
   "execution_count": 36,
   "id": "33627fea",
   "metadata": {},
   "outputs": [
    {
     "data": {
      "text/plain": [
       "[1, 23, 5, 6, -1]"
      ]
     },
     "execution_count": 36,
     "metadata": {},
     "output_type": "execute_result"
    }
   ],
   "source": [
    "ls"
   ]
  },
  {
   "cell_type": "code",
   "execution_count": 40,
   "id": "6e6f3226",
   "metadata": {},
   "outputs": [
    {
     "name": "stdout",
     "output_type": "stream",
     "text": [
      "1\n",
      "5\n",
      "apple\n",
      "\n",
      "23\n",
      "5\n",
      "apple\n",
      "\n",
      "5\n",
      "5\n",
      "apple\n",
      "\n",
      "6\n",
      "5\n",
      "apple\n",
      "\n",
      "-1\n",
      "5\n",
      "apple\n",
      "\n",
      "hello\n"
     ]
    }
   ],
   "source": [
    "for i in ls:\n",
    "    print(i)\n",
    "    print(2+3)\n",
    "    print('apple')\n",
    "    print()\n",
    "print('hello') # NOT included in the for loop, once function exits it prints this"
   ]
  },
  {
   "cell_type": "code",
   "execution_count": 41,
   "id": "78ebd3d2",
   "metadata": {
    "scrolled": true
   },
   "outputs": [
    {
     "name": "stdout",
     "output_type": "stream",
     "text": [
      "1\n",
      "23\n",
      "5\n",
      "6\n",
      "-1\n"
     ]
    },
    {
     "data": {
      "text/plain": [
       "[2, 24, 6, 7, 0]"
      ]
     },
     "execution_count": 41,
     "metadata": {},
     "output_type": "execute_result"
    }
   ],
   "source": [
    "new_list = []\n",
    "\n",
    "for x in ls:\n",
    "    print(x)\n",
    "    \n",
    "    new_list.append(x+1)\n",
    "    \n",
    "new_list"
   ]
  },
  {
   "cell_type": "markdown",
   "id": "9193702e",
   "metadata": {},
   "source": [
    "#### can also iterate over strings"
   ]
  },
  {
   "cell_type": "code",
   "execution_count": 42,
   "id": "3f3c94e7",
   "metadata": {},
   "outputs": [
    {
     "data": {
      "text/plain": [
       "'Hello Pagel Class'"
      ]
     },
     "execution_count": 42,
     "metadata": {},
     "output_type": "execute_result"
    }
   ],
   "source": [
    "string = 'Hello Pagel Class'\n",
    "string"
   ]
  },
  {
   "cell_type": "code",
   "execution_count": 52,
   "id": "d0d9829b",
   "metadata": {},
   "outputs": [
    {
     "name": "stdout",
     "output_type": "stream",
     "text": [
      "H\n",
      "e\n",
      "EYES\n",
      "l\n",
      "l\n",
      "o\n",
      " \n",
      "P\n",
      "a\n",
      "g\n",
      "e\n",
      "EYES\n",
      "l\n",
      " \n",
      "C\n",
      "l\n",
      "a\n",
      "s\n",
      "s\n"
     ]
    }
   ],
   "source": [
    "for char in string:\n",
    "    print(char)\n",
    "    if char == 'e':\n",
    "        print('EYES')"
   ]
  },
  {
   "cell_type": "markdown",
   "id": "eb002699",
   "metadata": {},
   "source": [
    "### List Comprehension"
   ]
  },
  {
   "cell_type": "markdown",
   "id": "b4477b1f",
   "metadata": {},
   "source": [
    "-- shorthand method of creating a list using a for loop"
   ]
  },
  {
   "cell_type": "code",
   "execution_count": null,
   "id": "4ead5e47",
   "metadata": {},
   "outputs": [],
   "source": [
    "#FORMAT:\n",
    "#[[what_to_do_to_iterator] for [iterator] in [sequence]]"
   ]
  },
  {
   "cell_type": "code",
   "execution_count": 54,
   "id": "e79959c5",
   "metadata": {},
   "outputs": [
    {
     "data": {
      "text/plain": [
       "[1, 23, 5, 6, -1]"
      ]
     },
     "execution_count": 54,
     "metadata": {},
     "output_type": "execute_result"
    }
   ],
   "source": [
    "ls"
   ]
  },
  {
   "cell_type": "code",
   "execution_count": 53,
   "id": "3aa8a935",
   "metadata": {},
   "outputs": [
    {
     "data": {
      "text/plain": [
       "[2, 24, 6, 7, 0]"
      ]
     },
     "execution_count": 53,
     "metadata": {},
     "output_type": "execute_result"
    }
   ],
   "source": [
    "new_list = []\n",
    "\n",
    "for x in ls:\n",
    "    new_list.append(x+1)\n",
    "    \n",
    "new_list"
   ]
  },
  {
   "cell_type": "code",
   "execution_count": 55,
   "id": "2180bb80",
   "metadata": {},
   "outputs": [
    {
     "data": {
      "text/plain": [
       "[2, 24, 6, 7, 0]"
      ]
     },
     "execution_count": 55,
     "metadata": {},
     "output_type": "execute_result"
    }
   ],
   "source": [
    "[x+1 for x in ls]"
   ]
  },
  {
   "cell_type": "code",
   "execution_count": 57,
   "id": "eafa29bf",
   "metadata": {},
   "outputs": [],
   "source": [
    "new_list_from_list_comp = [x+1 for x in ls]"
   ]
  },
  {
   "cell_type": "code",
   "execution_count": 59,
   "id": "762a98a7",
   "metadata": {},
   "outputs": [
    {
     "data": {
      "text/plain": [
       "[2, 24, 6, 7, 0]"
      ]
     },
     "execution_count": 59,
     "metadata": {},
     "output_type": "execute_result"
    }
   ],
   "source": [
    "new_list_from_list_comp"
   ]
  },
  {
   "cell_type": "markdown",
   "id": "1c777bdc",
   "metadata": {},
   "source": [
    "## Recap\n",
    "- if/elif/else\n",
    "- while loops\n",
    "- lists"
   ]
  },
  {
   "cell_type": "markdown",
   "id": "f2874e9e",
   "metadata": {},
   "source": [
    "    * these all end with a colon, when the statement is true it exits AFTER the first true statement"
   ]
  },
  {
   "cell_type": "markdown",
   "id": "8720d724",
   "metadata": {},
   "source": [
    "### While Loops"
   ]
  },
  {
   "cell_type": "code",
   "execution_count": 2,
   "id": "f10a3a80",
   "metadata": {},
   "outputs": [
    {
     "name": "stdout",
     "output_type": "stream",
     "text": [
      "0\n",
      "2\n",
      "1\n",
      "3\n",
      "2\n",
      "4\n",
      "3\n",
      "5\n",
      "4\n",
      "6\n",
      "goodbye\n"
     ]
    }
   ],
   "source": [
    "i = 0\n",
    "\n",
    "while i < 5:\n",
    "    print(i)\n",
    "    print(i+2)\n",
    "    i= i + 1  ## don't forget to LIMIT IT\n",
    "print('goodbye')"
   ]
  },
  {
   "cell_type": "markdown",
   "id": "102d2dcb",
   "metadata": {},
   "source": [
    "### For Loops"
   ]
  },
  {
   "cell_type": "code",
   "execution_count": 3,
   "id": "98f2d472",
   "metadata": {},
   "outputs": [
    {
     "data": {
      "text/plain": [
       "[23, 1, 45, 78, 88, 69]"
      ]
     },
     "execution_count": 3,
     "metadata": {},
     "output_type": "execute_result"
    }
   ],
   "source": [
    "ls = [23, 1, 45, 78, 88, 69]\n",
    "ls"
   ]
  },
  {
   "cell_type": "code",
   "execution_count": 11,
   "id": "28e1ac94",
   "metadata": {},
   "outputs": [
    {
     "name": "stdout",
     "output_type": "stream",
     "text": [
      "2300\n",
      "100\n",
      "4500\n",
      "7800\n",
      "8800\n",
      "6900\n",
      "[2300, 100, 4500, 7800, 8800, 6900]\n"
     ]
    }
   ],
   "source": [
    "for any_variable_for_iterator in ls:\n",
    "    print(any_variable_for_iterator * 100)\n",
    "new_ls_times_100 = []\n",
    "for any_variable_for_iterator in ls:\n",
    "    new_ls_times_100.append(any_variable_for_iterator *100)\n",
    "print (new_ls_times_100)"
   ]
  },
  {
   "cell_type": "code",
   "execution_count": 12,
   "id": "17c73b2e",
   "metadata": {
    "scrolled": true
   },
   "outputs": [
    {
     "name": "stdout",
     "output_type": "stream",
     "text": [
      "[2300, 100, 4500, 7800, 8800, 6900]\n"
     ]
    }
   ],
   "source": [
    "new_ls_times_100 = []\n",
    "for any_variable_for_iterator in ls:\n",
    "    new_ls_times_100.append(any_variable_for_iterator *100)\n",
    "print (new_ls_times_100)"
   ]
  },
  {
   "cell_type": "markdown",
   "id": "0adb46e0",
   "metadata": {},
   "source": [
    "### List Comprehension"
   ]
  },
  {
   "cell_type": "code",
   "execution_count": 13,
   "id": "b69ff32f",
   "metadata": {},
   "outputs": [],
   "source": [
    "new_ls_100_ls_comp = [any_variable_for_iterator*100 for any_variable_for_iterator in ls]"
   ]
  },
  {
   "cell_type": "code",
   "execution_count": 14,
   "id": "379cfcd8",
   "metadata": {},
   "outputs": [
    {
     "data": {
      "text/plain": [
       "[2300, 100, 4500, 7800, 8800, 6900]"
      ]
     },
     "execution_count": 14,
     "metadata": {},
     "output_type": "execute_result"
    }
   ],
   "source": [
    "new_ls_100_ls_comp"
   ]
  },
  {
   "cell_type": "markdown",
   "id": "720fdacf",
   "metadata": {},
   "source": [
    "### Break Continue\n",
    "-- commands to execute in a loop\n",
    "\n",
    "-- `break` will force the loop to end\n",
    "\n",
    "-- `continue` will skip the current iteration of a loop"
   ]
  },
  {
   "cell_type": "code",
   "execution_count": 18,
   "id": "bdaf4425",
   "metadata": {},
   "outputs": [],
   "source": [
    "### break commands to exit when a flow, force loops to end\n",
    "### continue will skip the current iteration of a loop"
   ]
  },
  {
   "cell_type": "code",
   "execution_count": 17,
   "id": "ec51153a",
   "metadata": {},
   "outputs": [],
   "source": [
    "# make big list\n",
    "big_ls = list(range(100))"
   ]
  },
  {
   "cell_type": "code",
   "execution_count": 21,
   "id": "77f6ac16",
   "metadata": {},
   "outputs": [
    {
     "name": "stdout",
     "output_type": "stream",
     "text": [
      "0\n",
      "1\n",
      "2\n",
      "3\n",
      "4\n",
      "5\n",
      "6\n",
      "7\n",
      "8\n",
      "9\n",
      "you found 9!\n"
     ]
    }
   ],
   "source": [
    "for i in big_ls:\n",
    "    print(i)\n",
    "    if i == 9:\n",
    "        print('you found 9!')\n",
    "        break\n"
   ]
  },
  {
   "cell_type": "code",
   "execution_count": 25,
   "id": "c1843a9e",
   "metadata": {},
   "outputs": [
    {
     "name": "stdout",
     "output_type": "stream",
     "text": [
      "0\n",
      "hello\n",
      "1\n",
      "hello\n",
      "2\n",
      "hello\n",
      "3\n",
      "hello\n",
      "4\n",
      "hello\n",
      "5\n",
      "hello\n",
      "6\n",
      "hello\n",
      "7\n",
      "hello\n",
      "8\n",
      "hello\n",
      "9\n",
      "you found 9!\n",
      "10\n",
      "hello\n",
      "11\n",
      "hello\n",
      "12\n",
      "hello\n",
      "13\n",
      "hello\n",
      "14\n",
      "hello\n",
      "15\n",
      "hello\n",
      "16\n",
      "hello\n",
      "17\n",
      "hello\n",
      "18\n",
      "hello\n",
      "19\n",
      "hello\n",
      "20\n",
      "hello\n",
      "21\n",
      "hello\n",
      "22\n",
      "hello\n",
      "23\n",
      "hello\n",
      "24\n",
      "hello\n",
      "25\n",
      "hello\n",
      "26\n",
      "hello\n",
      "27\n",
      "hello\n",
      "28\n",
      "hello\n",
      "29\n",
      "hello\n",
      "30\n",
      "hello\n",
      "31\n",
      "hello\n",
      "32\n",
      "hello\n",
      "33\n",
      "hello\n",
      "34\n",
      "hello\n",
      "35\n",
      "hello\n",
      "36\n",
      "hello\n",
      "37\n",
      "hello\n",
      "38\n",
      "hello\n",
      "39\n",
      "hello\n",
      "40\n",
      "hello\n",
      "41\n",
      "hello\n",
      "42\n",
      "hello\n",
      "43\n",
      "hello\n",
      "44\n",
      "hello\n",
      "45\n",
      "hello\n",
      "46\n",
      "hello\n",
      "47\n",
      "hello\n",
      "48\n",
      "hello\n",
      "49\n",
      "hello\n",
      "50\n",
      "hello\n",
      "51\n",
      "hello\n",
      "52\n",
      "hello\n",
      "53\n",
      "hello\n",
      "54\n",
      "hello\n",
      "55\n",
      "hello\n",
      "56\n",
      "hello\n",
      "57\n",
      "hello\n",
      "58\n",
      "hello\n",
      "59\n",
      "hello\n",
      "60\n",
      "hello\n",
      "61\n",
      "hello\n",
      "62\n",
      "hello\n",
      "63\n",
      "hello\n",
      "64\n",
      "hello\n",
      "65\n",
      "hello\n",
      "66\n",
      "hello\n",
      "67\n",
      "hello\n",
      "68\n",
      "hello\n",
      "69\n",
      "hello\n",
      "70\n",
      "hello\n",
      "71\n",
      "hello\n",
      "72\n",
      "hello\n",
      "73\n",
      "hello\n",
      "74\n",
      "hello\n",
      "75\n",
      "hello\n",
      "76\n",
      "hello\n",
      "77\n",
      "hello\n",
      "78\n",
      "hello\n",
      "79\n",
      "hello\n",
      "80\n",
      "hello\n",
      "81\n",
      "hello\n",
      "82\n",
      "hello\n",
      "83\n",
      "hello\n",
      "84\n",
      "hello\n",
      "85\n",
      "hello\n",
      "86\n",
      "hello\n",
      "87\n",
      "hello\n",
      "88\n",
      "hello\n",
      "89\n",
      "hello\n",
      "90\n",
      "hello\n",
      "91\n",
      "hello\n",
      "92\n",
      "hello\n",
      "93\n",
      "hello\n",
      "94\n",
      "hello\n",
      "95\n",
      "hello\n",
      "96\n",
      "hello\n",
      "97\n",
      "hello\n",
      "98\n",
      "hello\n",
      "99\n",
      "hello\n"
     ]
    }
   ],
   "source": [
    "for i in big_ls:\n",
    "    print(i)\n",
    "    if i == 9:\n",
    "        print('you found 9!')\n",
    "        continue # JUST FOR THAT ITERATION, SKIP EVERYTHING AFTER EVEN THOUGH IT'S NOT \"IN THE LOOP\"\n",
    "    print('hello')"
   ]
  }
 ],
 "metadata": {
  "kernelspec": {
   "display_name": "Python 3 (ipykernel)",
   "language": "python",
   "name": "python3"
  },
  "language_info": {
   "codemirror_mode": {
    "name": "ipython",
    "version": 3
   },
   "file_extension": ".py",
   "mimetype": "text/x-python",
   "name": "python",
   "nbconvert_exporter": "python",
   "pygments_lexer": "ipython3",
   "version": "3.9.13"
  }
 },
 "nbformat": 4,
 "nbformat_minor": 5
}
