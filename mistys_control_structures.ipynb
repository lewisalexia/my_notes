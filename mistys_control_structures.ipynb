{
 "cells": [
  {
   "cell_type": "code",
   "execution_count": 6,
   "id": "1324f13c",
   "metadata": {},
   "outputs": [
    {
     "name": "stdout",
     "output_type": "stream",
     "text": [
      "give me the day of the week: MonDAy\n",
      "monday\n",
      "today is monday\n"
     ]
    }
   ],
   "source": [
    "# 1.\n",
    "day = input(\"give me the day of the week: \")\n",
    "day = day.lower()\n",
    "\n",
    "print(day)\n",
    "\n",
    "if day == \"monday\":\n",
    "    print(\"today is monday\")\n",
    "else:\n",
    "    print(\"today is not monday\")"
   ]
  },
  {
   "cell_type": "code",
   "execution_count": 12,
   "id": "5741500a",
   "metadata": {},
   "outputs": [
    {
     "name": "stdout",
     "output_type": "stream",
     "text": [
      "give me the day of the week: tuesday\n",
      "tuesday\n",
      "this is not the weekend\n"
     ]
    }
   ],
   "source": [
    "# 2.\n",
    "day2 = input(\"give me the day of the week: \")\n",
    "weekend = [\"saturday\", \"sunday\"]\n",
    "\n",
    "if day2.lower() in weekend:\n",
    "    print(\"this is the weekend\")\n",
    "else:\n",
    "    print(\"this is not the weekend\")"
   ]
  },
  {
   "cell_type": "markdown",
   "id": "a53125f3",
   "metadata": {},
   "source": [
    "#### Write a while loop that uses print to create the output shown below.\n",
    "100\n",
    "95\n",
    "90\n",
    "85\n",
    "80\n",
    "75\n",
    "70\n",
    "65\n",
    "60\n",
    "55\n",
    "50\n",
    "45\n",
    "40\n",
    "35\n",
    "30\n",
    "25\n",
    "20\n",
    "15\n",
    "10\n",
    "5\n"
   ]
  },
  {
   "cell_type": "code",
   "execution_count": 13,
   "id": "dc4e1f1a",
   "metadata": {},
   "outputs": [],
   "source": [
    "# MINE\n",
    "i = 5      \n",
    "count = 1       \n",
    "while count <= 20:    \n",
    "    i = i * 1\n",
    "    print (i * count)    \n",
    "    count += 1"
   ]
  },
  {
   "cell_type": "code",
   "execution_count": 14,
   "id": "d49611a3",
   "metadata": {},
   "outputs": [
    {
     "name": "stdout",
     "output_type": "stream",
     "text": [
      "100\n",
      "95\n",
      "90\n",
      "85\n",
      "80\n",
      "75\n",
      "70\n",
      "65\n",
      "60\n",
      "55\n",
      "50\n",
      "45\n",
      "40\n",
      "35\n",
      "30\n",
      "25\n",
      "20\n",
      "15\n",
      "10\n",
      "5\n"
     ]
    }
   ],
   "source": [
    "# MISTYS\n",
    "i = 100\n",
    "while i >= 5:\n",
    "    print(i)\n",
    "    i -= 5"
   ]
  },
  {
   "cell_type": "code",
   "execution_count": 21,
   "id": "c58c69c9",
   "metadata": {},
   "outputs": [
    {
     "name": "stdout",
     "output_type": "stream",
     "text": [
      "enter a number: 7\n",
      "1 x 7 = 7\n",
      "2 x 7 = 14\n",
      "3 x 7 = 21\n",
      "4 x 7 = 28\n",
      "5 x 7 = 35\n",
      "6 x 7 = 42\n",
      "7 x 7 = 49\n",
      "8 x 7 = 56\n",
      "9 x 7 = 63\n",
      "10 x 7 = 70\n"
     ]
    }
   ],
   "source": [
    "# F-Strings Misty\n",
    "numb = int(input('enter a number: '))\n",
    "\n",
    "for i in range(1,11):\n",
    "    print(f'{i} x {numb} = {i*numb}')"
   ]
  },
  {
   "cell_type": "code",
   "execution_count": 22,
   "id": "572ebb39",
   "metadata": {},
   "outputs": [
    {
     "name": "stdout",
     "output_type": "stream",
     "text": [
      "enter a positive number: 6\n",
      "6\n",
      "5\n",
      "4\n",
      "3\n",
      "2\n",
      "1\n"
     ]
    }
   ],
   "source": [
    "numb = int(input('enter a positive number: '))\n",
    "for i in range(numb,0,-1):\n",
    "    print(i)"
   ]
  },
  {
   "cell_type": "code",
   "execution_count": null,
   "id": "f007efe7",
   "metadata": {},
   "outputs": [],
   "source": [
    "for i in range(1,101):\n",
    "    if i % 15 == 0:\n",
    "        print(\"FizzBuzz\")\n",
    "        continue\n",
    "    if i % 5 == 0:\n",
    "        print(\"Buzz\")\n",
    "    if i % 3 == 0:\n",
    "        print(\"Fizz\")\n",
    "        continue\n",
    "    print(i)"
   ]
  },
  {
   "cell_type": "code",
   "execution_count": null,
   "id": "a30d9f9a",
   "metadata": {},
   "outputs": [],
   "source": []
  }
 ],
 "metadata": {
  "kernelspec": {
   "display_name": "Python 3 (ipykernel)",
   "language": "python",
   "name": "python3"
  },
  "language_info": {
   "codemirror_mode": {
    "name": "ipython",
    "version": 3
   },
   "file_extension": ".py",
   "mimetype": "text/x-python",
   "name": "python",
   "nbconvert_exporter": "python",
   "pygments_lexer": "ipython3",
   "version": "3.9.13"
  }
 },
 "nbformat": 4,
 "nbformat_minor": 5
}
