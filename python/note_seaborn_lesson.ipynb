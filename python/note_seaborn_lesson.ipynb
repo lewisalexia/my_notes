{
 "cells": [
  {
   "cell_type": "markdown",
   "id": "c71fed2f",
   "metadata": {},
   "source": [
    "# Seaborn"
   ]
  },
  {
   "cell_type": "markdown",
   "id": "6c13ddff",
   "metadata": {},
   "source": [
    "what is it?\n",
    "- a visual library that builds on top of matplotlib \n",
    "- features nice integration with pandas\n",
    "- api reference: https://seaborn.pydata.org/api.html#\n",
    "\n",
    "why do we care? \n",
    "- it's pretty\n",
    "- it integrates nicely with pandas\n",
    "- adds functionality\n",
    "- less code than matplotlib"
   ]
  },
  {
   "cell_type": "markdown",
   "id": "3fa3b20e",
   "metadata": {},
   "source": [
    "Today:\n",
    "- importing data from seaborn\n",
    "- different types of plots\n",
    "    - relplot\n",
    "    - distplot\n",
    "    - catplot\n",
    "    - pairplot\n",
    "    - heatmap"
   ]
  },
  {
   "cell_type": "code",
   "execution_count": 2,
   "id": "ef8e597d",
   "metadata": {},
   "outputs": [],
   "source": [
    "# pandas for tabular data manipulation\n",
    "import pandas as pd\n",
    "\n",
    "# numpy for vectorized matrix operations\n",
    "import numpy as np\n",
    "\n",
    "# matplotlib.pyplot for basic matplotlib functionality\n",
    "import matplotlib.pyplot as plt\n",
    "\n",
    "# seabon for more visualizations! \n",
    "import seaborn as sns"
   ]
  },
  {
   "cell_type": "markdown",
   "id": "46bef6f7",
   "metadata": {},
   "source": [
    "## Data From Seaborn"
   ]
  },
  {
   "cell_type": "markdown",
   "id": "74815b49",
   "metadata": {},
   "source": [
    "we'll be using the tips dataset for this demo"
   ]
  },
  {
   "cell_type": "markdown",
   "id": "a0fc3cf0",
   "metadata": {},
   "source": [
    "#### from pydataset"
   ]
  },
  {
   "cell_type": "code",
   "execution_count": 3,
   "id": "d0324c54",
   "metadata": {},
   "outputs": [],
   "source": [
    "from pydataset import data"
   ]
  },
  {
   "cell_type": "code",
   "execution_count": 7,
   "id": "d4691360",
   "metadata": {},
   "outputs": [],
   "source": [
    "df = data ('tips')"
   ]
  },
  {
   "cell_type": "markdown",
   "id": "12e31a18",
   "metadata": {},
   "source": [
    "#### from seaborn"
   ]
  },
  {
   "cell_type": "code",
   "execution_count": 6,
   "id": "e30b4684",
   "metadata": {},
   "outputs": [
    {
     "data": {
      "text/plain": [
       "['anagrams',\n",
       " 'anscombe',\n",
       " 'attention',\n",
       " 'brain_networks',\n",
       " 'car_crashes',\n",
       " 'diamonds',\n",
       " 'dots',\n",
       " 'dowjones',\n",
       " 'exercise',\n",
       " 'flights',\n",
       " 'fmri',\n",
       " 'geyser',\n",
       " 'glue',\n",
       " 'healthexp',\n",
       " 'iris',\n",
       " 'mpg',\n",
       " 'penguins',\n",
       " 'planets',\n",
       " 'seaice',\n",
       " 'taxis',\n",
       " 'tips',\n",
       " 'titanic']"
      ]
     },
     "execution_count": 6,
     "metadata": {},
     "output_type": "execute_result"
    }
   ],
   "source": [
    "#look for all datasets available in seaborn\n",
    "sns.get_dataset_names()"
   ]
  },
  {
   "cell_type": "code",
   "execution_count": 10,
   "id": "5714b15b",
   "metadata": {},
   "outputs": [],
   "source": [
    "#load the tips dataset \n",
    "tips = sns.load_dataset('tips')"
   ]
  },
  {
   "cell_type": "code",
   "execution_count": 11,
   "id": "e5912dae",
   "metadata": {},
   "outputs": [
    {
     "data": {
      "text/html": [
       "<div>\n",
       "<style scoped>\n",
       "    .dataframe tbody tr th:only-of-type {\n",
       "        vertical-align: middle;\n",
       "    }\n",
       "\n",
       "    .dataframe tbody tr th {\n",
       "        vertical-align: top;\n",
       "    }\n",
       "\n",
       "    .dataframe thead th {\n",
       "        text-align: right;\n",
       "    }\n",
       "</style>\n",
       "<table border=\"1\" class=\"dataframe\">\n",
       "  <thead>\n",
       "    <tr style=\"text-align: right;\">\n",
       "      <th></th>\n",
       "      <th>total_bill</th>\n",
       "      <th>tip</th>\n",
       "      <th>sex</th>\n",
       "      <th>smoker</th>\n",
       "      <th>day</th>\n",
       "      <th>time</th>\n",
       "      <th>size</th>\n",
       "    </tr>\n",
       "  </thead>\n",
       "  <tbody>\n",
       "    <tr>\n",
       "      <th>0</th>\n",
       "      <td>16.99</td>\n",
       "      <td>1.01</td>\n",
       "      <td>Female</td>\n",
       "      <td>No</td>\n",
       "      <td>Sun</td>\n",
       "      <td>Dinner</td>\n",
       "      <td>2</td>\n",
       "    </tr>\n",
       "    <tr>\n",
       "      <th>1</th>\n",
       "      <td>10.34</td>\n",
       "      <td>1.66</td>\n",
       "      <td>Male</td>\n",
       "      <td>No</td>\n",
       "      <td>Sun</td>\n",
       "      <td>Dinner</td>\n",
       "      <td>3</td>\n",
       "    </tr>\n",
       "    <tr>\n",
       "      <th>2</th>\n",
       "      <td>21.01</td>\n",
       "      <td>3.50</td>\n",
       "      <td>Male</td>\n",
       "      <td>No</td>\n",
       "      <td>Sun</td>\n",
       "      <td>Dinner</td>\n",
       "      <td>3</td>\n",
       "    </tr>\n",
       "    <tr>\n",
       "      <th>3</th>\n",
       "      <td>23.68</td>\n",
       "      <td>3.31</td>\n",
       "      <td>Male</td>\n",
       "      <td>No</td>\n",
       "      <td>Sun</td>\n",
       "      <td>Dinner</td>\n",
       "      <td>2</td>\n",
       "    </tr>\n",
       "    <tr>\n",
       "      <th>4</th>\n",
       "      <td>24.59</td>\n",
       "      <td>3.61</td>\n",
       "      <td>Female</td>\n",
       "      <td>No</td>\n",
       "      <td>Sun</td>\n",
       "      <td>Dinner</td>\n",
       "      <td>4</td>\n",
       "    </tr>\n",
       "  </tbody>\n",
       "</table>\n",
       "</div>"
      ],
      "text/plain": [
       "   total_bill   tip     sex smoker  day    time  size\n",
       "0       16.99  1.01  Female     No  Sun  Dinner     2\n",
       "1       10.34  1.66    Male     No  Sun  Dinner     3\n",
       "2       21.01  3.50    Male     No  Sun  Dinner     3\n",
       "3       23.68  3.31    Male     No  Sun  Dinner     2\n",
       "4       24.59  3.61  Female     No  Sun  Dinner     4"
      ]
     },
     "execution_count": 11,
     "metadata": {},
     "output_type": "execute_result"
    }
   ],
   "source": [
    "#check out the dataset\n",
    "tips.head()"
   ]
  },
  {
   "cell_type": "code",
   "execution_count": 13,
   "id": "759f1085",
   "metadata": {},
   "outputs": [
    {
     "name": "stdout",
     "output_type": "stream",
     "text": [
      "<class 'pandas.core.frame.DataFrame'>\n",
      "RangeIndex: 244 entries, 0 to 243\n",
      "Data columns (total 7 columns):\n",
      " #   Column      Non-Null Count  Dtype   \n",
      "---  ------      --------------  -----   \n",
      " 0   total_bill  244 non-null    float64 \n",
      " 1   tip         244 non-null    float64 \n",
      " 2   sex         244 non-null    category\n",
      " 3   smoker      244 non-null    category\n",
      " 4   day         244 non-null    category\n",
      " 5   time        244 non-null    category\n",
      " 6   size        244 non-null    int64   \n",
      "dtypes: category(4), float64(2), int64(1)\n",
      "memory usage: 7.4 KB\n"
     ]
    }
   ],
   "source": [
    "tips.info()"
   ]
  },
  {
   "cell_type": "code",
   "execution_count": 14,
   "id": "b2e52043",
   "metadata": {},
   "outputs": [],
   "source": [
    "# use df.column.unique to inspect values"
   ]
  },
  {
   "cell_type": "markdown",
   "id": "05acc92b",
   "metadata": {},
   "source": [
    "#### Types of data:\n",
    "\n",
    "Continuous Data: Numeric data with possibly infinite resolution (typically measuring something)\n",
    "\n",
    "- total_bill, tip\n",
    "\n",
    "Categorical: Distinct categories or buckets (typically limited number of values)\n",
    "\n",
    "- sex, smoker, day, time\n",
    "\n",
    "Discrete: Distinct numeric categories (typically counting something) (usually whole numbers)\n",
    "\n",
    "- size\n",
    "\n"
   ]
  },
  {
   "cell_type": "markdown",
   "id": "6133ceba",
   "metadata": {},
   "source": [
    "## Let's look at the plots!"
   ]
  },
  {
   "attachments": {
    "image.png": {
     "image/png": "[encoded data removed]"
    }
   },
   "cell_type": "markdown",
   "id": "73163020",
   "metadata": {},
   "source": [
    "![image.png](attachment:image.png)"
   ]
  },
  {
   "cell_type": "markdown",
   "id": "e822477e",
   "metadata": {},
   "source": [
    "source: https://seaborn.pydata.org/tutorial/function_overview.html"
   ]
  },
  {
   "cell_type": "markdown",
   "id": "c2a170c2",
   "metadata": {},
   "source": [
    "- Top level plots are figure-level with more customization and flexibility \n",
    "- Lower level are axes-level that you have to utilize with matplotlib's functions"
   ]
  },
  {
   "cell_type": "markdown",
   "id": "0ee751a4",
   "metadata": {},
   "source": [
    "## Relplot"
   ]
  },
  {
   "cell_type": "markdown",
   "id": "b353fe6b",
   "metadata": {},
   "source": [
    "- comparing two numeric variables\n",
    "   - scatter for continuous\n",
    "   - line for discrete"
   ]
  },
  {
   "cell_type": "markdown",
   "id": "b6d555d7",
   "metadata": {},
   "source": [
    "#### matplotlib"
   ]
  },
  {
   "cell_type": "code",
   "execution_count": 15,
   "id": "bbfbc281",
   "metadata": {},
   "outputs": [
    {
     "data": {
      "image/png": "[encoded data removed]",
      "text/plain": [
       "<Figure size 640x480 with 1 Axes>"
      ]
     },
     "metadata": {},
     "output_type": "display_data"
    }
   ],
   "source": [
    "#matplotlib's scatter to compare total_bill and tip\n",
    "plt.scatter(tips.total_bill, tips.tip)\n",
    "plt.show()"
   ]
  },
  {
   "cell_type": "markdown",
   "id": "04ea4262",
   "metadata": {},
   "source": [
    "#### matplotlib - multiple categories"
   ]
  },
  {
   "cell_type": "code",
   "execution_count": 22,
   "id": "eeb3202e",
   "metadata": {},
   "outputs": [],
   "source": [
    "#make two separate dfs to plot different categories\n",
    "non_smoke = df [df.smoker == 'No']\n",
    "smoke = df [ df.smoker =='Yes']"
   ]
  },
  {
   "cell_type": "code",
   "execution_count": 23,
   "id": "5a145bd9",
   "metadata": {},
   "outputs": [
    {
     "ename": "AttributeError",
     "evalue": "'DataFrame' object has no attribute 'non_smoke'",
     "output_type": "error",
     "traceback": [
      "\u001b[0;31m---------------------------------------------------------------------------\u001b[0m",
      "\u001b[0;31mAttributeError\u001b[0m                            Traceback (most recent call last)",
      "\u001b[0;32m/var/folders/26/y7jmy96d6tx38pgw7pxw_dpm0000gn/T/ipykernel_10702/3684258823.py\u001b[0m in \u001b[0;36m<module>\u001b[0;34m\u001b[0m\n\u001b[0;32m----> 1\u001b[0;31m \u001b[0mplt\u001b[0m\u001b[0;34m.\u001b[0m\u001b[0mscatter\u001b[0m\u001b[0;34m(\u001b[0m\u001b[0mtips\u001b[0m\u001b[0;34m.\u001b[0m\u001b[0mtotal_bill\u001b[0m\u001b[0;34m,\u001b[0m \u001b[0mtips\u001b[0m\u001b[0;34m.\u001b[0m\u001b[0mnon_smoke\u001b[0m\u001b[0;34m)\u001b[0m\u001b[0;34m\u001b[0m\u001b[0;34m\u001b[0m\u001b[0m\n\u001b[0m\u001b[1;32m      2\u001b[0m \u001b[0mplt\u001b[0m\u001b[0;34m.\u001b[0m\u001b[0mscatter\u001b[0m\u001b[0;34m(\u001b[0m\u001b[0mtips\u001b[0m\u001b[0;34m.\u001b[0m\u001b[0mtotal_bill\u001b[0m\u001b[0;34m,\u001b[0m \u001b[0mtips\u001b[0m\u001b[0;34m.\u001b[0m\u001b[0msmoke\u001b[0m\u001b[0;34m)\u001b[0m\u001b[0;34m\u001b[0m\u001b[0;34m\u001b[0m\u001b[0m\n\u001b[1;32m      3\u001b[0m \u001b[0mplt\u001b[0m\u001b[0;34m.\u001b[0m\u001b[0mshow\u001b[0m\u001b[0;34m(\u001b[0m\u001b[0;34m)\u001b[0m\u001b[0;34m\u001b[0m\u001b[0;34m\u001b[0m\u001b[0m\n",
      "\u001b[0;32m/usr/local/anaconda3/lib/python3.9/site-packages/pandas/core/generic.py\u001b[0m in \u001b[0;36m__getattr__\u001b[0;34m(self, name)\u001b[0m\n\u001b[1;32m   5573\u001b[0m         ):\n\u001b[1;32m   5574\u001b[0m             \u001b[0;32mreturn\u001b[0m \u001b[0mself\u001b[0m\u001b[0;34m[\u001b[0m\u001b[0mname\u001b[0m\u001b[0;34m]\u001b[0m\u001b[0;34m\u001b[0m\u001b[0;34m\u001b[0m\u001b[0m\n\u001b[0;32m-> 5575\u001b[0;31m         \u001b[0;32mreturn\u001b[0m \u001b[0mobject\u001b[0m\u001b[0;34m.\u001b[0m\u001b[0m__getattribute__\u001b[0m\u001b[0;34m(\u001b[0m\u001b[0mself\u001b[0m\u001b[0;34m,\u001b[0m \u001b[0mname\u001b[0m\u001b[0;34m)\u001b[0m\u001b[0;34m\u001b[0m\u001b[0;34m\u001b[0m\u001b[0m\n\u001b[0m\u001b[1;32m   5576\u001b[0m \u001b[0;34m\u001b[0m\u001b[0m\n\u001b[1;32m   5577\u001b[0m     \u001b[0;32mdef\u001b[0m \u001b[0m__setattr__\u001b[0m\u001b[0;34m(\u001b[0m\u001b[0mself\u001b[0m\u001b[0;34m,\u001b[0m \u001b[0mname\u001b[0m\u001b[0;34m:\u001b[0m \u001b[0mstr\u001b[0m\u001b[0;34m,\u001b[0m \u001b[0mvalue\u001b[0m\u001b[0;34m)\u001b[0m \u001b[0;34m->\u001b[0m \u001b[0;32mNone\u001b[0m\u001b[0;34m:\u001b[0m\u001b[0;34m\u001b[0m\u001b[0;34m\u001b[0m\u001b[0m\n",
      "\u001b[0;31mAttributeError\u001b[0m: 'DataFrame' object has no attribute 'non_smoke'"
     ]
    }
   ],
   "source": [
    "plt.scatter(tips.total_bill, tips.non_smoke)\n",
    "plt.scatter(tips.total_bill, tips.smoke)\n",
    "plt.show()"
   ]
  },
  {
   "cell_type": "markdown",
   "id": "a631fa6a",
   "metadata": {},
   "source": [
    "#### seaborn relplot"
   ]
  },
  {
   "cell_type": "code",
   "execution_count": 24,
   "id": "cfd96ce9",
   "metadata": {},
   "outputs": [
    {
     "data": {
      "image/png": "[encoded data removed]",
      "text/plain": [
       "<Figure size 572.125x500 with 1 Axes>"
      ]
     },
     "metadata": {},
     "output_type": "display_data"
    }
   ],
   "source": [
    "#plot total_bill vs tip\n",
    "sns.relplot(data=df, x='total_bill',y='tip', hue='smoker')\n",
    "plt.show()"
   ]
  },
  {
   "cell_type": "markdown",
   "id": "1b419bb2",
   "metadata": {},
   "source": [
    "#### seaborn relplot arguments"
   ]
  },
  {
   "cell_type": "markdown",
   "id": "d4cfc7fa",
   "metadata": {},
   "source": [
    "- `hue` argument: changes color for categorical variable\n",
    "- `col` argument: makes separate columns for categorical variable"
   ]
  },
  {
   "cell_type": "code",
   "execution_count": null,
   "id": "255ab599",
   "metadata": {},
   "outputs": [],
   "source": [
    "#using hue\n",
    "\n",
    "plt.show()"
   ]
  },
  {
   "cell_type": "code",
   "execution_count": null,
   "id": "8d850516",
   "metadata": {},
   "outputs": [],
   "source": [
    "#using col\n",
    "\n",
    "plt.show()"
   ]
  },
  {
   "cell_type": "code",
   "execution_count": null,
   "id": "31257479",
   "metadata": {},
   "outputs": [],
   "source": [
    "#using both\n",
    "\n",
    "plt.show()"
   ]
  },
  {
   "cell_type": "markdown",
   "id": "46e521a8",
   "metadata": {},
   "source": [
    "#### seaborn relplot - discrete variables"
   ]
  },
  {
   "cell_type": "code",
   "execution_count": null,
   "id": "c9ef4c5f",
   "metadata": {},
   "outputs": [],
   "source": [
    "\n",
    "\n",
    "plt.show()"
   ]
  },
  {
   "cell_type": "markdown",
   "id": "5104b5b1",
   "metadata": {},
   "source": [
    "#### seaborn relplot - line plot"
   ]
  },
  {
   "cell_type": "code",
   "execution_count": null,
   "id": "1e41f151",
   "metadata": {},
   "outputs": [],
   "source": [
    "\n",
    "\n",
    "plt.show()"
   ]
  },
  {
   "cell_type": "code",
   "execution_count": null,
   "id": "7b5fc840",
   "metadata": {},
   "outputs": [],
   "source": [
    "#remove CI\n",
    "# errorbar=('ci', False)\n",
    "\n",
    "plt.show()"
   ]
  },
  {
   "cell_type": "markdown",
   "id": "0b5cd939",
   "metadata": {},
   "source": [
    "#### seaborn relplot - line plot - with continuous variables"
   ]
  },
  {
   "cell_type": "markdown",
   "id": "1ad8f704",
   "metadata": {},
   "source": [
    "- Note: probably not an appropriate graph for this data"
   ]
  },
  {
   "cell_type": "code",
   "execution_count": null,
   "id": "23002b5d",
   "metadata": {},
   "outputs": [],
   "source": [
    "#with tip and total_bill\n",
    "\n",
    "plt.show()"
   ]
  },
  {
   "cell_type": "markdown",
   "id": "c9a299d7",
   "metadata": {},
   "source": [
    "#### Axes-level plots"
   ]
  },
  {
   "cell_type": "markdown",
   "id": "5173e961",
   "metadata": {},
   "source": [
    "- `sns.scatterplot`\n",
    "- `sns.lineplot`"
   ]
  },
  {
   "cell_type": "code",
   "execution_count": null,
   "id": "7adbc076",
   "metadata": {},
   "outputs": [],
   "source": [
    "#total bill vs tip\n",
    "\n",
    "plt.show()"
   ]
  },
  {
   "cell_type": "code",
   "execution_count": null,
   "id": "e30bd0a1",
   "metadata": {},
   "outputs": [],
   "source": [
    "#size vs tip\n",
    "\n",
    "plt.show()"
   ]
  },
  {
   "cell_type": "markdown",
   "id": "aa695ba1",
   "metadata": {},
   "source": [
    "## Displot"
   ]
  },
  {
   "cell_type": "markdown",
   "id": "0cebffd9",
   "metadata": {},
   "source": [
    "- shows the distribution of a variable\n",
    "    - typically continunous"
   ]
  },
  {
   "cell_type": "code",
   "execution_count": null,
   "id": "4185917c",
   "metadata": {},
   "outputs": [],
   "source": [
    "#distribution of total_bill\n",
    "\n",
    "plt.show()"
   ]
  },
  {
   "cell_type": "markdown",
   "id": "c3ad22a6",
   "metadata": {},
   "source": [
    "#### displot arguments"
   ]
  },
  {
   "cell_type": "markdown",
   "id": "ef477222",
   "metadata": {},
   "source": [
    "- `kde`: probability of finding a observartions at particular value of x\n",
    "    - also, smoothed out version of histogram\n",
    "    \n",
    "- `rug`: show each observation with marginal ticks\n",
    "- `multiple`: allows you to stack on top, instead of overlaying\n",
    "-  also `hue` and `col`! "
   ]
  },
  {
   "cell_type": "code",
   "execution_count": null,
   "id": "3d0f044f",
   "metadata": {},
   "outputs": [],
   "source": [
    "\n",
    "plt.show()"
   ]
  },
  {
   "cell_type": "code",
   "execution_count": null,
   "id": "f3e9a3d8",
   "metadata": {},
   "outputs": [],
   "source": [
    "\n",
    "plt.show()"
   ]
  },
  {
   "cell_type": "code",
   "execution_count": null,
   "id": "1cc1d5ba",
   "metadata": {},
   "outputs": [],
   "source": [
    "# histogram with hue and stacking\n",
    "\n",
    "plt.show()"
   ]
  },
  {
   "cell_type": "markdown",
   "id": "46809fd8",
   "metadata": {},
   "source": [
    "#### Axes-level plot"
   ]
  },
  {
   "cell_type": "markdown",
   "id": "80c3c3ef",
   "metadata": {},
   "source": [
    "- `sns.histplot`"
   ]
  },
  {
   "cell_type": "code",
   "execution_count": null,
   "id": "cf06dbac",
   "metadata": {},
   "outputs": [],
   "source": [
    "\n",
    "plt.show()"
   ]
  },
  {
   "cell_type": "markdown",
   "id": "d6aa3ed0",
   "metadata": {},
   "source": [
    "## Catplot"
   ]
  },
  {
   "cell_type": "markdown",
   "id": "0808f714",
   "metadata": {},
   "source": [
    "- for comparing a continuous variable and a categorical variable"
   ]
  },
  {
   "cell_type": "code",
   "execution_count": null,
   "id": "dc505ed4",
   "metadata": {},
   "outputs": [],
   "source": [
    "#defaults to a stripplot\n",
    "\n",
    "plt.show()"
   ]
  },
  {
   "cell_type": "code",
   "execution_count": null,
   "id": "ee28f71a",
   "metadata": {},
   "outputs": [],
   "source": [
    "#boxplot\n",
    "\n",
    "plt.show()"
   ]
  },
  {
   "cell_type": "code",
   "execution_count": null,
   "id": "cb008060",
   "metadata": {},
   "outputs": [],
   "source": [
    "#swarmplot\n",
    "\n",
    "plt.show()"
   ]
  },
  {
   "cell_type": "code",
   "execution_count": null,
   "id": "d1a7e409",
   "metadata": {},
   "outputs": [],
   "source": [
    "#barplot\n",
    "\n",
    "plt.show()"
   ]
  },
  {
   "cell_type": "markdown",
   "id": "48a44465",
   "metadata": {},
   "source": [
    "## Dogplot"
   ]
  },
  {
   "cell_type": "markdown",
   "id": "a0203239",
   "metadata": {},
   "source": [
    "- since there is a catplot, there must be a dogplot"
   ]
  },
  {
   "cell_type": "code",
   "execution_count": null,
   "id": "5730185d",
   "metadata": {},
   "outputs": [],
   "source": []
  },
  {
   "cell_type": "markdown",
   "id": "a3b9a5c3",
   "metadata": {},
   "source": [
    "## Subplots"
   ]
  },
  {
   "cell_type": "markdown",
   "id": "84d5010e",
   "metadata": {},
   "source": [
    "- set up the same way as matplotlib\n",
    "- must use axes-level seaborn plots"
   ]
  },
  {
   "cell_type": "code",
   "execution_count": null,
   "id": "d42a84ef",
   "metadata": {},
   "outputs": [],
   "source": [
    "# specify my figure and my figsize\n",
    "# plt.figure(figsize=(12, 10))\n",
    "\n",
    "# plt.subplot(221)\n",
    "# sns.boxplot(data=tips, y='tip')\n",
    "# plt.title('A \"typical\" boxplot')\n",
    "\n",
    "# plt.subplot(222)\n",
    "# sns.boxplot(data=tips, x='tip')\n",
    "# plt.title('Rotated 90$\\degree$')\n",
    "\n",
    "# plt.subplot(223)\n",
    "# sns.boxplot(data=tips, y='tip', x='time')\n",
    "# plt.title('Providing an x and y value groups the data')\n",
    "\n",
    "# plt.subplot(224)\n",
    "# sns.boxplot(data=tips, y='tip', x='time', hue='sex')\n",
    "# plt.title('You can also use other kwargs, like hue')\n",
    "\n",
    "# giving it a super title\n",
    "# (a title for all the plots together)\n",
    "# plt.suptitle('A Title for All the Boxplots')\n",
    "# plt.subplots_adjust(hspace=0.4)"
   ]
  },
  {
   "cell_type": "markdown",
   "id": "06a70f93",
   "metadata": {},
   "source": [
    "## Pairplot"
   ]
  },
  {
   "cell_type": "markdown",
   "id": "c907afd3",
   "metadata": {},
   "source": [
    "- grabs all numeric type columns and plots the relationship between each of them"
   ]
  },
  {
   "cell_type": "code",
   "execution_count": null,
   "id": "87e23a98",
   "metadata": {},
   "outputs": [],
   "source": [
    "\n",
    "plt.show()"
   ]
  },
  {
   "cell_type": "markdown",
   "id": "bea17fc5",
   "metadata": {},
   "source": [
    "#### use agruments"
   ]
  },
  {
   "cell_type": "markdown",
   "id": "78c15461",
   "metadata": {},
   "source": [
    "- use `hue` argument to visualize relationship based of different categories\n",
    "- use `corner` to ignore duplicate plots\n",
    "- use `palette` to change colors: \n",
    "    - all palette options: https://www.practicalpythonfordatascience.com/ap_seaborn_palette\n",
    "    - futher reading on how to choose palettes: https://seaborn.pydata.org/tutorial/color_palettes.html"
   ]
  },
  {
   "cell_type": "code",
   "execution_count": null,
   "id": "c2ed204d",
   "metadata": {},
   "outputs": [],
   "source": [
    "\n",
    "plt.show()"
   ]
  },
  {
   "cell_type": "markdown",
   "id": "8448d351",
   "metadata": {},
   "source": [
    "- we want a palette that has different colors for each category so we can distigush them "
   ]
  },
  {
   "cell_type": "markdown",
   "id": "1f58b1f2",
   "metadata": {},
   "source": [
    "## Heatmap"
   ]
  },
  {
   "cell_type": "markdown",
   "id": "e58bc512",
   "metadata": {},
   "source": [
    "- shows the relationship between variables\n",
    "- agruments:\n",
    "    - `cmap`: for setting color palette\n",
    "    - `annot`: to write the values on the map\n",
    "    - `fmt`: format the values "
   ]
  },
  {
   "cell_type": "markdown",
   "id": "31e418c6",
   "metadata": {},
   "source": [
    "#### categorical variables\n",
    "- comparing counts"
   ]
  },
  {
   "cell_type": "code",
   "execution_count": null,
   "id": "1d9b037f",
   "metadata": {},
   "outputs": [],
   "source": [
    "#start with crosstab to get counts\n"
   ]
  },
  {
   "cell_type": "code",
   "execution_count": null,
   "id": "1d1f4efb",
   "metadata": {},
   "outputs": [],
   "source": [
    "#apply heatmap on counts\n",
    "\n",
    "plt.show()"
   ]
  },
  {
   "cell_type": "markdown",
   "id": "2525e736",
   "metadata": {},
   "source": [
    "- here we want a palette that has a color gradient so we can easily see the relationship between values"
   ]
  },
  {
   "cell_type": "markdown",
   "id": "af10c096",
   "metadata": {},
   "source": [
    "#### numeric variables\n",
    "- comparing correlation"
   ]
  },
  {
   "cell_type": "code",
   "execution_count": null,
   "id": "f323b93b",
   "metadata": {},
   "outputs": [],
   "source": [
    "#get correlations\n"
   ]
  },
  {
   "cell_type": "code",
   "execution_count": null,
   "id": "f5bd856e",
   "metadata": {},
   "outputs": [],
   "source": [
    "#apply heatmap to correlations\n",
    "\n",
    "plt.show()"
   ]
  },
  {
   "cell_type": "code",
   "execution_count": null,
   "id": "7358d8a8",
   "metadata": {},
   "outputs": [],
   "source": []
  }
 ],
 "metadata": {
  "kernelspec": {
   "display_name": "Python 3 (ipykernel)",
   "language": "python",
   "name": "python3"
  },
  "language_info": {
   "codemirror_mode": {
    "name": "ipython",
    "version": 3
   },
   "file_extension": ".py",
   "mimetype": "text/x-python",
   "name": "python",
   "nbconvert_exporter": "python",
   "pygments_lexer": "ipython3",
   "version": "3.9.13"
  }
 },
 "nbformat": 4,
 "nbformat_minor": 5
}
