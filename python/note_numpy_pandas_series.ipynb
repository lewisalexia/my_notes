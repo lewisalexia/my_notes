{
 "cells": [
  {
   "cell_type": "markdown",
   "id": "8aac6939",
   "metadata": {},
   "source": [
    "## Pandas Series"
   ]
  },
  {
   "cell_type": "markdown",
   "id": "7924bd48",
   "metadata": {},
   "source": [
    "#### seaborn, pandas, "
   ]
  },
  {
   "cell_type": "markdown",
   "id": "9a03f250",
   "metadata": {},
   "source": [
    "* Numpy: Arrays\n",
    "* Pandas: Series and Dataframes"
   ]
  },
  {
   "cell_type": "markdown",
   "id": "cb23425e",
   "metadata": {},
   "source": [
    "* Series like a numpy array but with more functionality"
   ]
  },
  {
   "cell_type": "markdown",
   "id": "9d7ec9a4",
   "metadata": {},
   "source": [
    "* Series: a single column of a table\n",
    "* Dataframes: the entire table"
   ]
  },
  {
   "cell_type": "markdown",
   "id": "65e85e87",
   "metadata": {},
   "source": [
    "Series contains an index....which can be thought of as a row name\n",
    "\n",
    "which is a way to reference items.\n",
    "\n",
    "the index is stored with other meta-information.\n",
    "* the elements are of a specific ddata type. Type is inferred but can manualy specified"
   ]
  },
  {
   "cell_type": "code",
   "execution_count": 3,
   "id": "baa5530e",
   "metadata": {},
   "outputs": [],
   "source": [
    "import pandas as pd"
   ]
  },
  {
   "cell_type": "code",
   "execution_count": 4,
   "id": "00e2ac62",
   "metadata": {},
   "outputs": [],
   "source": [
    "import numpy as np"
   ]
  },
  {
   "cell_type": "code",
   "execution_count": 5,
   "id": "e937af5b",
   "metadata": {},
   "outputs": [],
   "source": [
    "my_list = [2,3,4]"
   ]
  },
  {
   "cell_type": "code",
   "execution_count": 6,
   "id": "d3ab303a",
   "metadata": {},
   "outputs": [
    {
     "data": {
      "text/plain": [
       "list"
      ]
     },
     "execution_count": 6,
     "metadata": {},
     "output_type": "execute_result"
    }
   ],
   "source": [
    "type(my_list)"
   ]
  },
  {
   "cell_type": "code",
   "execution_count": 8,
   "id": "e0e3f8b0",
   "metadata": {},
   "outputs": [],
   "source": [
    "my_array = np.array(my_list)"
   ]
  },
  {
   "cell_type": "code",
   "execution_count": 10,
   "id": "8b5e0538",
   "metadata": {},
   "outputs": [
    {
     "data": {
      "text/plain": [
       "numpy.ndarray"
      ]
     },
     "execution_count": 10,
     "metadata": {},
     "output_type": "execute_result"
    }
   ],
   "source": [
    "type(my_array)"
   ]
  },
  {
   "cell_type": "code",
   "execution_count": 11,
   "id": "74f17cca",
   "metadata": {},
   "outputs": [],
   "source": [
    "my_series = pd.Series(my_list)"
   ]
  },
  {
   "cell_type": "code",
   "execution_count": 12,
   "id": "e6f973c0",
   "metadata": {},
   "outputs": [
    {
     "data": {
      "text/plain": [
       "0    2\n",
       "1    3\n",
       "2    4\n",
       "dtype: int64"
      ]
     },
     "execution_count": 12,
     "metadata": {},
     "output_type": "execute_result"
    }
   ],
   "source": [
    "my_series"
   ]
  },
  {
   "cell_type": "code",
   "execution_count": 14,
   "id": "cf79712f",
   "metadata": {},
   "outputs": [],
   "source": [
    "# my_df = data('sleepstudy')"
   ]
  },
  {
   "cell_type": "code",
   "execution_count": 15,
   "id": "f9762a52",
   "metadata": {},
   "outputs": [],
   "source": [
    "# data() -> will show the dataframe in a tabular format"
   ]
  },
  {
   "cell_type": "code",
   "execution_count": 16,
   "id": "e4371015",
   "metadata": {},
   "outputs": [],
   "source": [
    "# my_df -> will display your rows and columns"
   ]
  },
  {
   "cell_type": "code",
   "execution_count": 17,
   "id": "a75df84d",
   "metadata": {},
   "outputs": [],
   "source": [
    "# my_df.columns -> will display the Index(['name', etc])"
   ]
  },
  {
   "cell_type": "code",
   "execution_count": 24,
   "id": "0bc8de0a",
   "metadata": {},
   "outputs": [],
   "source": [
    "# my_df.Reaction -> to GRAB a COLUMN but cannot add formatting"
   ]
  },
  {
   "cell_type": "code",
   "execution_count": 19,
   "id": "83830c83",
   "metadata": {},
   "outputs": [],
   "source": [
    "# data().head(##) -> will display up to the value of ##\n",
    "# pd.set_option('display.max_rows', 1000) -> to see explicit amt"
   ]
  },
  {
   "cell_type": "code",
   "execution_count": 21,
   "id": "559c34d5",
   "metadata": {},
   "outputs": [],
   "source": [
    "# my_df.Reaction.head(##) -> to GRAB a special amt from top\n",
    "# my_df.Reaction.tail(##) -> \" \" from bottom"
   ]
  },
  {
   "cell_type": "code",
   "execution_count": 20,
   "id": "ebf820a7",
   "metadata": {},
   "outputs": [],
   "source": [
    "# my_df.[['Reaction']] -> to make pretty :)"
   ]
  },
  {
   "cell_type": "code",
   "execution_count": 22,
   "id": "72f304df",
   "metadata": {},
   "outputs": [],
   "source": [
    "# my_df[['Reaction','Days']] -> LIST of LISTS to only view as it is no longer a series"
   ]
  },
  {
   "cell_type": "markdown",
   "id": "ccee1055",
   "metadata": {},
   "source": [
    "### Datatypes in a Series"
   ]
  },
  {
   "cell_type": "code",
   "execution_count": 25,
   "id": "25d2014b",
   "metadata": {},
   "outputs": [
    {
     "data": {
      "text/plain": [
       "0     True\n",
       "1    False\n",
       "2     True\n",
       "dtype: bool"
      ]
     },
     "execution_count": 25,
     "metadata": {},
     "output_type": "execute_result"
    }
   ],
   "source": [
    "pd.Series([True, False, True])"
   ]
  },
  {
   "cell_type": "code",
   "execution_count": 27,
   "id": "58de8fcd",
   "metadata": {},
   "outputs": [
    {
     "data": {
      "text/plain": [
       "0     Codeup\n",
       "1         Is\n",
       "2    Awesome\n",
       "dtype: object"
      ]
     },
     "execution_count": 27,
     "metadata": {},
     "output_type": "execute_result"
    }
   ],
   "source": [
    "pd.Series(['Codeup', 'Is', 'Awesome']) #obj is the backup for datatypes"
   ]
  },
  {
   "cell_type": "code",
   "execution_count": 28,
   "id": "0ac47347",
   "metadata": {},
   "outputs": [
    {
     "data": {
      "text/plain": [
       "0    Five\n",
       "1       1\n",
       "2       4\n",
       "dtype: object"
      ]
     },
     "execution_count": 28,
     "metadata": {},
     "output_type": "execute_result"
    }
   ],
   "source": [
    "pd.Series(['Five', 1, 4])"
   ]
  },
  {
   "cell_type": "code",
   "execution_count": 30,
   "id": "7395b790",
   "metadata": {},
   "outputs": [
    {
     "data": {
      "text/plain": [
       "0    5\n",
       "1    1\n",
       "2    4\n",
       "dtype: object"
      ]
     },
     "execution_count": 30,
     "metadata": {},
     "output_type": "execute_result"
    }
   ],
   "source": [
    "pd.Series(['5', 1, 4]) # THE WORST"
   ]
  },
  {
   "cell_type": "code",
   "execution_count": 32,
   "id": "6a703783",
   "metadata": {},
   "outputs": [],
   "source": [
    "a = pd.Series(['5', 1, 4]) # THE WORST"
   ]
  },
  {
   "cell_type": "markdown",
   "id": "d8e96ccd",
   "metadata": {},
   "source": [
    "We can filter by dtype and cast it to another type"
   ]
  },
  {
   "cell_type": "code",
   "execution_count": 33,
   "id": "f5332b05",
   "metadata": {},
   "outputs": [],
   "source": [
    "my_new_series = a[a != '5'] # -> here we are excluding the '5' string..."
   ]
  },
  {
   "cell_type": "code",
   "execution_count": 34,
   "id": "dc60fa0e",
   "metadata": {},
   "outputs": [
    {
     "data": {
      "text/plain": [
       "1    1\n",
       "2    4\n",
       "dtype: object"
      ]
     },
     "execution_count": 34,
     "metadata": {},
     "output_type": "execute_result"
    }
   ],
   "source": [
    "my_new_series"
   ]
  },
  {
   "cell_type": "code",
   "execution_count": 35,
   "id": "867b0583",
   "metadata": {},
   "outputs": [
    {
     "data": {
      "text/plain": [
       "1    1\n",
       "2    4\n",
       "dtype: int64"
      ]
     },
     "execution_count": 35,
     "metadata": {},
     "output_type": "execute_result"
    }
   ],
   "source": [
    "my_new_series.astype('int') # -> cast a datatype to fix the object"
   ]
  },
  {
   "cell_type": "code",
   "execution_count": 36,
   "id": "6a3a7805",
   "metadata": {},
   "outputs": [
    {
     "data": {
      "text/plain": [
       "1    2\n",
       "2    5\n",
       "dtype: object"
      ]
     },
     "execution_count": 36,
     "metadata": {},
     "output_type": "execute_result"
    }
   ],
   "source": [
    "my_new_series + 1"
   ]
  },
  {
   "cell_type": "markdown",
   "id": "deaf2194",
   "metadata": {},
   "source": [
    "## Vectorized Operations"
   ]
  },
  {
   "cell_type": "markdown",
   "id": "7fce5111",
   "metadata": {},
   "source": [
    "Like numpy arrays, pandas series are vectorized by default. E.g., we can easily use the basic arithmetic operators to manipulate every element in the series.\n",
    "\n",
    "* arithmetic operations\n",
    "* comparison operations"
   ]
  },
  {
   "cell_type": "code",
   "execution_count": null,
   "id": "f3850c02",
   "metadata": {},
   "outputs": [],
   "source": [
    "# s3.value_counts() -> counts up instances of occurences in your data"
   ]
  },
  {
   "cell_type": "code",
   "execution_count": 37,
   "id": "81ed50e7",
   "metadata": {},
   "outputs": [],
   "source": [
    "# (s3 > 5).any() -> you will have some who meet the requirement"
   ]
  },
  {
   "cell_type": "code",
   "execution_count": 39,
   "id": "3259a141",
   "metadata": {},
   "outputs": [],
   "source": [
    "# (s3 > 5).all() -> likely return false as all do not meet\n",
    "    # can use for verification check??"
   ]
  },
  {
   "cell_type": "code",
   "execution_count": 40,
   "id": "25ab2e4a",
   "metadata": {},
   "outputs": [],
   "source": [
    "vowels = list('aeiou')"
   ]
  },
  {
   "cell_type": "code",
   "execution_count": 41,
   "id": "bb2f937d",
   "metadata": {},
   "outputs": [
    {
     "data": {
      "text/plain": [
       "['a', 'e', 'i', 'o', 'u']"
      ]
     },
     "execution_count": 41,
     "metadata": {},
     "output_type": "execute_result"
    }
   ],
   "source": [
    "vowels"
   ]
  },
  {
   "cell_type": "code",
   "execution_count": 49,
   "id": "3baae39d",
   "metadata": {},
   "outputs": [],
   "source": [
    "letters = list('abcdefghijklmnopqrstuvwxyz')"
   ]
  },
  {
   "cell_type": "code",
   "execution_count": 50,
   "id": "d270c8f9",
   "metadata": {},
   "outputs": [],
   "source": [
    "letters_series = pd.Series(letters)"
   ]
  },
  {
   "cell_type": "code",
   "execution_count": 51,
   "id": "d0de4000",
   "metadata": {},
   "outputs": [
    {
     "data": {
      "text/plain": [
       "0     a\n",
       "1     b\n",
       "2     c\n",
       "3     d\n",
       "4     e\n",
       "5     f\n",
       "6     g\n",
       "7     h\n",
       "8     i\n",
       "9     j\n",
       "10    k\n",
       "11    l\n",
       "12    m\n",
       "13    n\n",
       "14    o\n",
       "15    p\n",
       "16    q\n",
       "17    r\n",
       "18    s\n",
       "19    t\n",
       "20    u\n",
       "21    v\n",
       "22    w\n",
       "23    x\n",
       "24    y\n",
       "25    z\n",
       "dtype: object"
      ]
     },
     "execution_count": 51,
     "metadata": {},
     "output_type": "execute_result"
    }
   ],
   "source": [
    "letters_series"
   ]
  },
  {
   "cell_type": "code",
   "execution_count": 52,
   "id": "95eb5be3",
   "metadata": {},
   "outputs": [
    {
     "data": {
      "text/plain": [
       "False    21\n",
       "True      5\n",
       "dtype: int64"
      ]
     },
     "execution_count": 52,
     "metadata": {},
     "output_type": "execute_result"
    }
   ],
   "source": [
    "letters_series.isin(vowels).value_counts() # -> can filter out items that are in the list"
   ]
  },
  {
   "cell_type": "code",
   "execution_count": 53,
   "id": "ee49d0b3",
   "metadata": {},
   "outputs": [
    {
     "data": {
      "text/plain": [
       "True"
      ]
     },
     "execution_count": 53,
     "metadata": {},
     "output_type": "execute_result"
    }
   ],
   "source": [
    "letters_series.isin(vowels).any()"
   ]
  },
  {
   "cell_type": "markdown",
   "id": "42940f36",
   "metadata": {},
   "source": [
    "## Methods for Descriptive Statistics"
   ]
  },
  {
   "cell_type": "markdown",
   "id": "6f6c40dd",
   "metadata": {},
   "source": [
    "mean, mode, quantiles, min, max, count, sum, etc"
   ]
  },
  {
   "cell_type": "code",
   "execution_count": 55,
   "id": "042a7e4f",
   "metadata": {},
   "outputs": [
    {
     "data": {
      "text/plain": [
       "26"
      ]
     },
     "execution_count": 55,
     "metadata": {},
     "output_type": "execute_result"
    }
   ],
   "source": [
    "letters_series.count() # useful to determine where your index starts/stops"
   ]
  },
  {
   "cell_type": "code",
   "execution_count": 58,
   "id": "3f8dad09",
   "metadata": {},
   "outputs": [],
   "source": [
    "# {\n",
    "#     'count':letters_series.count(),\n",
    "#     'sum':letters_series.sum(),\n",
    "#     'mean':letters_series.mean(),\n",
    "#     'median':letters_series.median()\n",
    "# }"
   ]
  },
  {
   "cell_type": "code",
   "execution_count": 60,
   "id": "fafb7483",
   "metadata": {},
   "outputs": [
    {
     "data": {
      "text/plain": [
       "count     26\n",
       "unique    26\n",
       "top        a\n",
       "freq       1\n",
       "dtype: object"
      ]
     },
     "execution_count": 60,
     "metadata": {},
     "output_type": "execute_result"
    }
   ],
   "source": [
    "letters_series.describe() # works on dataframes but is technically a series"
   ]
  },
  {
   "cell_type": "code",
   "execution_count": 61,
   "id": "3531319a",
   "metadata": {},
   "outputs": [
    {
     "data": {
      "text/plain": [
       "<bound method NDFrame.describe of 0     a\n",
       "1     b\n",
       "2     c\n",
       "3     d\n",
       "4     e\n",
       "5     f\n",
       "6     g\n",
       "7     h\n",
       "8     i\n",
       "9     j\n",
       "10    k\n",
       "11    l\n",
       "12    m\n",
       "13    n\n",
       "14    o\n",
       "15    p\n",
       "16    q\n",
       "17    r\n",
       "18    s\n",
       "19    t\n",
       "20    u\n",
       "21    v\n",
       "22    w\n",
       "23    x\n",
       "24    y\n",
       "25    z\n",
       "dtype: object>"
      ]
     },
     "execution_count": 61,
     "metadata": {},
     "output_type": "execute_result"
    }
   ],
   "source": [
    "letters_series.describe # this describes an attribute(feature) not function"
   ]
  },
  {
   "cell_type": "markdown",
   "id": "9d7863a6",
   "metadata": {},
   "source": [
    "When you want to apply a function to a series or a dataframe"
   ]
  },
  {
   "cell_type": "code",
   "execution_count": 62,
   "id": "9cb82908",
   "metadata": {},
   "outputs": [],
   "source": [
    "# def even_or_odd(n): function"
   ]
  },
  {
   "cell_type": "code",
   "execution_count": 75,
   "id": "77e61d27",
   "metadata": {},
   "outputs": [
    {
     "data": {
      "text/plain": [
       "pandas.core.series.Series"
      ]
     },
     "execution_count": 75,
     "metadata": {},
     "output_type": "execute_result"
    }
   ],
   "source": [
    "type(a)"
   ]
  },
  {
   "cell_type": "code",
   "execution_count": 76,
   "id": "60e192b8",
   "metadata": {},
   "outputs": [],
   "source": [
    "def even_or_odd(n):\n",
    "    if n % 2 == 0:\n",
    "        return 'even'\n",
    "    else:\n",
    "        return 'odd'"
   ]
  },
  {
   "cell_type": "code",
   "execution_count": 79,
   "id": "c95a8dc9",
   "metadata": {},
   "outputs": [
    {
     "data": {
      "text/plain": [
       "0    5\n",
       "1    1\n",
       "2    4\n",
       "dtype: int64"
      ]
     },
     "execution_count": 79,
     "metadata": {},
     "output_type": "execute_result"
    }
   ],
   "source": [
    "a.astype('int')"
   ]
  },
  {
   "cell_type": "markdown",
   "id": "38b8946a",
   "metadata": {},
   "source": [
    "IN ORDER TO MAKE THIS WORK I NEED TO CAST THIS SERIES TO AN INTEGER"
   ]
  },
  {
   "cell_type": "code",
   "execution_count": null,
   "id": "a7817f4b",
   "metadata": {},
   "outputs": [],
   "source": [
    "a.apply(even_or_odd)"
   ]
  },
  {
   "cell_type": "code",
   "execution_count": 89,
   "id": "d476d4e1",
   "metadata": {},
   "outputs": [],
   "source": [
    "# CAN APPLY LAMBDA FUNCTIONS AS WELL"
   ]
  },
  {
   "cell_type": "code",
   "execution_count": 90,
   "id": "85c89c26",
   "metadata": {},
   "outputs": [],
   "source": [
    "# DOES NOT NORMALLY WORK WITH MORE THAN ONE ARGUMENT UNLESS YOU ATTACH THEM TO ARG1, ARG2"
   ]
  },
  {
   "cell_type": "markdown",
   "id": "f8a996aa",
   "metadata": {},
   "source": [
    "## Vectorized String Operations"
   ]
  },
  {
   "cell_type": "code",
   "execution_count": 82,
   "id": "51c38ee8",
   "metadata": {},
   "outputs": [],
   "source": [
    "s4 = pd.Series(['Andrew', 'Keila', 'Alexia', 'Manuel', 'Corey'])"
   ]
  },
  {
   "cell_type": "code",
   "execution_count": 85,
   "id": "04ce7fbd",
   "metadata": {},
   "outputs": [
    {
     "data": {
      "text/plain": [
       "0    andrew\n",
       "1     keila\n",
       "2    alexia\n",
       "3    manuel\n",
       "4     corey\n",
       "dtype: object"
      ]
     },
     "execution_count": 85,
     "metadata": {},
     "output_type": "execute_result"
    }
   ],
   "source": [
    "s4.str.lower() # attaching a method to a series"
   ]
  },
  {
   "cell_type": "code",
   "execution_count": 86,
   "id": "a092acef",
   "metadata": {},
   "outputs": [
    {
     "data": {
      "text/plain": [
       "0    ANDREW\n",
       "1     KEILA\n",
       "2    ALEXIA\n",
       "3    MANUEL\n",
       "4     COREY\n",
       "dtype: object"
      ]
     },
     "execution_count": 86,
     "metadata": {},
     "output_type": "execute_result"
    }
   ],
   "source": [
    "s4.str.upper()"
   ]
  },
  {
   "cell_type": "code",
   "execution_count": 87,
   "id": "7f331c24",
   "metadata": {},
   "outputs": [
    {
     "data": {
      "text/plain": [
       "0    Andrew\n",
       "1     Keila\n",
       "2    Alexia\n",
       "3      Dude\n",
       "4     Corey\n",
       "dtype: object"
      ]
     },
     "execution_count": 87,
     "metadata": {},
     "output_type": "execute_result"
    }
   ],
   "source": [
    "s4.str.replace('Manuel','Dude')"
   ]
  },
  {
   "cell_type": "code",
   "execution_count": 88,
   "id": "432f25b9",
   "metadata": {},
   "outputs": [],
   "source": [
    "# can replace yes and no with 1 and 0"
   ]
  },
  {
   "cell_type": "code",
   "execution_count": null,
   "id": "a564e5de",
   "metadata": {},
   "outputs": [],
   "source": []
  }
 ],
 "metadata": {
  "kernelspec": {
   "display_name": "Python 3 (ipykernel)",
   "language": "python",
   "name": "python3"
  },
  "language_info": {
   "codemirror_mode": {
    "name": "ipython",
    "version": 3
   },
   "file_extension": ".py",
   "mimetype": "text/x-python",
   "name": "python",
   "nbconvert_exporter": "python",
   "pygments_lexer": "ipython3",
   "version": "3.9.13"
  }
 },
 "nbformat": 4,
 "nbformat_minor": 5
}
