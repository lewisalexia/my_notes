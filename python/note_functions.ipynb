{
 "cells": [
  {
   "cell_type": "markdown",
   "id": "3baffd4f",
   "metadata": {},
   "source": [
    "# Functions"
   ]
  },
  {
   "cell_type": "markdown",
   "id": "9db1794f",
   "metadata": {},
   "source": [
    "What are they? generally code that takes in data, transforms it, and outputs new data"
   ]
  },
  {
   "cell_type": "markdown",
   "id": "1b8d633d",
   "metadata": {},
   "source": [
    "Why do we care? because we can use already made code to repeat the same block code over and over! "
   ]
  },
  {
   "cell_type": "markdown",
   "id": "6bc75031",
   "metadata": {},
   "source": [
    "generally interacting with two types\n",
    "- someone else's function\n",
    "- or a function that you create! "
   ]
  },
  {
   "cell_type": "markdown",
   "id": "919efd5d",
   "metadata": {},
   "source": [
    "note: functions always have those parenthesis at the end! "
   ]
  },
  {
   "cell_type": "markdown",
   "id": "1611775b",
   "metadata": {},
   "source": [
    "## built-in functions"
   ]
  },
  {
   "cell_type": "markdown",
   "id": "32914baa",
   "metadata": {},
   "source": [
    "#### some you may have already seen"
   ]
  },
  {
   "cell_type": "code",
   "execution_count": null,
   "id": "967eae14",
   "metadata": {},
   "outputs": [],
   "source": [
    "#new list\n",
    "ls = [1,34,5245,3,23,13467,-2]"
   ]
  },
  {
   "cell_type": "markdown",
   "id": "9934e757",
   "metadata": {},
   "source": [
    "#### A method is something that is applied to data \n",
    "        * .string()"
   ]
  },
  {
   "cell_type": "markdown",
   "id": "de19ec88",
   "metadata": {},
   "source": [
    "#### A function takes in data \n",
    "        * strip(string)"
   ]
  },
  {
   "cell_type": "markdown",
   "id": "8bf3f55c",
   "metadata": {},
   "source": [
    "max(), min(), sum(), len(), round()"
   ]
  },
  {
   "cell_type": "markdown",
   "id": "63807ec7",
   "metadata": {},
   "source": [
    "* shift + tab to see the docstring in python"
   ]
  },
  {
   "cell_type": "markdown",
   "id": "37db4ad7",
   "metadata": {},
   "source": [
    "#### troubleshooting errors"
   ]
  },
  {
   "cell_type": "code",
   "execution_count": 1,
   "id": "bc5754bb",
   "metadata": {
    "scrolled": true
   },
   "outputs": [
    {
     "data": {
      "text/plain": [
       "<function len(obj, /)>"
      ]
     },
     "execution_count": 1,
     "metadata": {},
     "output_type": "execute_result"
    }
   ],
   "source": [
    "len"
   ]
  },
  {
   "cell_type": "markdown",
   "id": "7782aa3f",
   "metadata": {},
   "source": [
    "* when you see the pointy brackets - you are missing something"
   ]
  },
  {
   "cell_type": "code",
   "execution_count": 2,
   "id": "e2797525",
   "metadata": {},
   "outputs": [
    {
     "ename": "TypeError",
     "evalue": "len() takes exactly one argument (0 given)",
     "output_type": "error",
     "traceback": [
      "\u001b[0;31m---------------------------------------------------------------------------\u001b[0m",
      "\u001b[0;31mTypeError\u001b[0m                                 Traceback (most recent call last)",
      "\u001b[0;32m/var/folders/26/y7jmy96d6tx38pgw7pxw_dpm0000gn/T/ipykernel_37529/3175031574.py\u001b[0m in \u001b[0;36m<module>\u001b[0;34m\u001b[0m\n\u001b[0;32m----> 1\u001b[0;31m \u001b[0mlen\u001b[0m\u001b[0;34m(\u001b[0m\u001b[0;34m)\u001b[0m\u001b[0;34m\u001b[0m\u001b[0;34m\u001b[0m\u001b[0m\n\u001b[0m",
      "\u001b[0;31mTypeError\u001b[0m: len() takes exactly one argument (0 given)"
     ]
    }
   ],
   "source": [
    "len()"
   ]
  },
  {
   "cell_type": "markdown",
   "id": "23919c73",
   "metadata": {},
   "source": [
    "## make our own functions!\n",
    "\n",
    "1. first define the function (create it)\n",
    "2. then call the function (access it)"
   ]
  },
  {
   "cell_type": "markdown",
   "id": "aae3ba1f",
   "metadata": {},
   "source": [
    "#### define a function"
   ]
  },
  {
   "cell_type": "code",
   "execution_count": null,
   "id": "19f12c2a",
   "metadata": {},
   "outputs": [],
   "source": [
    "# FORMAT:\n",
    "# def [function_name]([input]):\n",
    "#     return [output_usually_transformed_input]"
   ]
  },
  {
   "cell_type": "code",
   "execution_count": 4,
   "id": "ffb956d2",
   "metadata": {},
   "outputs": [],
   "source": [
    "#create a function that adds one every time\n",
    "def add_one(input_variable):\n",
    "    return input_variable + 1"
   ]
  },
  {
   "cell_type": "markdown",
   "id": "103adadf",
   "metadata": {},
   "source": [
    "what happening in the above code?\n",
    "* defining the function called add_one\n",
    "* accepting an input and labeling it input_variable\n",
    "* returning the transformed input as an output"
   ]
  },
  {
   "cell_type": "markdown",
   "id": "cabbfada",
   "metadata": {},
   "source": [
    "note:\n",
    "- all we have done so far is define our function\n",
    "- nothing is executing"
   ]
  },
  {
   "cell_type": "markdown",
   "id": "5837c94b",
   "metadata": {},
   "source": [
    "#### call the function we created"
   ]
  },
  {
   "cell_type": "code",
   "execution_count": null,
   "id": "b7940b27",
   "metadata": {},
   "outputs": [],
   "source": [
    "# FORMAT:\n",
    "# [function_name]([input])"
   ]
  },
  {
   "cell_type": "code",
   "execution_count": 5,
   "id": "321378fb",
   "metadata": {},
   "outputs": [
    {
     "data": {
      "text/plain": [
       "7"
      ]
     },
     "execution_count": 5,
     "metadata": {},
     "output_type": "execute_result"
    }
   ],
   "source": [
    "add_one(6)"
   ]
  },
  {
   "cell_type": "code",
   "execution_count": 6,
   "id": "24348e45",
   "metadata": {},
   "outputs": [
    {
     "data": {
      "text/plain": [
       "8"
      ]
     },
     "execution_count": 6,
     "metadata": {},
     "output_type": "execute_result"
    }
   ],
   "source": [
    "#nest the function\n",
    "add_one(add_one(add_one(5)))"
   ]
  },
  {
   "cell_type": "markdown",
   "id": "68a7cf6d",
   "metadata": {},
   "source": [
    "* works from the inside out!"
   ]
  },
  {
   "cell_type": "markdown",
   "id": "1a732293",
   "metadata": {},
   "source": [
    "#### look at the input variable"
   ]
  },
  {
   "cell_type": "code",
   "execution_count": 7,
   "id": "7f7eaa75",
   "metadata": {
    "scrolled": true
   },
   "outputs": [
    {
     "ename": "NameError",
     "evalue": "name 'input_variable' is not defined",
     "output_type": "error",
     "traceback": [
      "\u001b[0;31m---------------------------------------------------------------------------\u001b[0m",
      "\u001b[0;31mNameError\u001b[0m                                 Traceback (most recent call last)",
      "\u001b[0;32m/var/folders/26/y7jmy96d6tx38pgw7pxw_dpm0000gn/T/ipykernel_37529/2128625808.py\u001b[0m in \u001b[0;36m<module>\u001b[0;34m\u001b[0m\n\u001b[0;32m----> 1\u001b[0;31m \u001b[0minput_variable\u001b[0m\u001b[0;34m\u001b[0m\u001b[0;34m\u001b[0m\u001b[0m\n\u001b[0m",
      "\u001b[0;31mNameError\u001b[0m: name 'input_variable' is not defined"
     ]
    }
   ],
   "source": [
    "input_variable"
   ]
  },
  {
   "cell_type": "code",
   "execution_count": 4,
   "id": "3bf2c9b5",
   "metadata": {},
   "outputs": [],
   "source": [
    "# #create a function that adds one every time\n",
    "# def add_one(input_variable):\n",
    "#     return input_variable + 1"
   ]
  },
  {
   "cell_type": "markdown",
   "id": "a103c462",
   "metadata": {},
   "source": [
    "This variable ^^ only exists in the little world of this function\n",
    "   * cannot call outside of the function"
   ]
  },
  {
   "cell_type": "markdown",
   "id": "df0b44c3",
   "metadata": {},
   "source": [
    "### printing vs returning vs nothing in functions"
   ]
  },
  {
   "cell_type": "markdown",
   "id": "89cdd219",
   "metadata": {},
   "source": [
    "#### define em"
   ]
  },
  {
   "cell_type": "code",
   "execution_count": 8,
   "id": "726733f6",
   "metadata": {},
   "outputs": [],
   "source": [
    "def add_one_return(i):\n",
    "    return i + 1"
   ]
  },
  {
   "cell_type": "code",
   "execution_count": 11,
   "id": "ca1a6f6d",
   "metadata": {},
   "outputs": [],
   "source": [
    "def add_one_print(i):\n",
    "    print(i + 1)"
   ]
  },
  {
   "cell_type": "code",
   "execution_count": 10,
   "id": "e41f56bd",
   "metadata": {},
   "outputs": [],
   "source": [
    "def add_one_none(i):\n",
    "    i + 1"
   ]
  },
  {
   "cell_type": "markdown",
   "id": "792ede87",
   "metadata": {},
   "source": [
    "#### call em"
   ]
  },
  {
   "cell_type": "code",
   "execution_count": 12,
   "id": "19a1d91f",
   "metadata": {},
   "outputs": [
    {
     "data": {
      "text/plain": [
       "6"
      ]
     },
     "execution_count": 12,
     "metadata": {},
     "output_type": "execute_result"
    }
   ],
   "source": [
    "add_one_return(5)"
   ]
  },
  {
   "cell_type": "code",
   "execution_count": 13,
   "id": "e797d61f",
   "metadata": {},
   "outputs": [
    {
     "name": "stdout",
     "output_type": "stream",
     "text": [
      "6\n"
     ]
    }
   ],
   "source": [
    "add_one_print(5)"
   ]
  },
  {
   "cell_type": "code",
   "execution_count": 14,
   "id": "8d985dfc",
   "metadata": {},
   "outputs": [],
   "source": [
    "add_one_none(5)"
   ]
  },
  {
   "cell_type": "markdown",
   "id": "11e9d59f",
   "metadata": {},
   "source": [
    "questions:\n",
    "- return and print look the same, are they?\n",
    "- why does add_one_none return nothing?"
   ]
  },
  {
   "cell_type": "markdown",
   "id": "457cb0fb",
   "metadata": {},
   "source": [
    "#### investigate"
   ]
  },
  {
   "cell_type": "code",
   "execution_count": 16,
   "id": "83415245",
   "metadata": {},
   "outputs": [],
   "source": [
    "new_var_return = add_one_return(5)"
   ]
  },
  {
   "cell_type": "markdown",
   "id": "d5cb5f30",
   "metadata": {},
   "source": [
    "new_var_RETURN ensures that you are getting data back. It actually executes a function"
   ]
  },
  {
   "cell_type": "code",
   "execution_count": 17,
   "id": "07fe1a6c",
   "metadata": {},
   "outputs": [
    {
     "data": {
      "text/plain": [
       "6"
      ]
     },
     "execution_count": 17,
     "metadata": {},
     "output_type": "execute_result"
    }
   ],
   "source": [
    "new_var_return"
   ]
  },
  {
   "cell_type": "code",
   "execution_count": 18,
   "id": "5409e5a7",
   "metadata": {},
   "outputs": [
    {
     "name": "stdout",
     "output_type": "stream",
     "text": [
      "6\n"
     ]
    }
   ],
   "source": [
    "new_var_print = add_one_print(5)"
   ]
  },
  {
   "cell_type": "markdown",
   "id": "3bd2de4d",
   "metadata": {},
   "source": [
    "new_var_PRINT doesn't return anything because you are saving a 'print'\n",
    "to a screen"
   ]
  },
  {
   "cell_type": "code",
   "execution_count": null,
   "id": "e30850f3",
   "metadata": {},
   "outputs": [],
   "source": [
    "new_var = add_one_none(5)"
   ]
  },
  {
   "cell_type": "code",
   "execution_count": 21,
   "id": "dec723ce",
   "metadata": {},
   "outputs": [],
   "source": [
    "add_one_none(5)"
   ]
  },
  {
   "cell_type": "markdown",
   "id": "8a0dac16",
   "metadata": {},
   "source": [
    "add_one_none doesn't return anything because we didn't tell it too"
   ]
  },
  {
   "cell_type": "markdown",
   "id": "ee003c5c",
   "metadata": {},
   "source": [
    "### lets make it more complex"
   ]
  },
  {
   "cell_type": "markdown",
   "id": "36e99e18",
   "metadata": {},
   "source": [
    "#### ex. let's create a function that takes in a string, uppercases everything and then adds 3 exclamation points  "
   ]
  },
  {
   "cell_type": "markdown",
   "id": "a04d0475",
   "metadata": {},
   "source": [
    "best practice for creating functions\n",
    "1. get your code working outside of the function first\n",
    "2. once your code is working correctly, then define it as a function\n",
    "3. call and test your function"
   ]
  },
  {
   "cell_type": "markdown",
   "id": "eaaec7b0",
   "metadata": {},
   "source": [
    "#### 1. get your code working outside of the function first"
   ]
  },
  {
   "cell_type": "code",
   "execution_count": 31,
   "id": "aa080a25",
   "metadata": {},
   "outputs": [],
   "source": [
    "test = 'jupiter apples'"
   ]
  },
  {
   "cell_type": "code",
   "execution_count": 26,
   "id": "ca826882",
   "metadata": {},
   "outputs": [
    {
     "data": {
      "text/plain": [
       "'JUPITER APPLES'"
      ]
     },
     "execution_count": 26,
     "metadata": {},
     "output_type": "execute_result"
    }
   ],
   "source": [
    "string = string.upper()\n",
    "string"
   ]
  },
  {
   "cell_type": "code",
   "execution_count": 29,
   "id": "79a7feef",
   "metadata": {},
   "outputs": [
    {
     "data": {
      "text/plain": [
       "'JUPITER APPLES!!!!!!'"
      ]
     },
     "execution_count": 29,
     "metadata": {},
     "output_type": "execute_result"
    }
   ],
   "source": [
    "string = string + '!!!'\n",
    "string"
   ]
  },
  {
   "cell_type": "markdown",
   "id": "35ca2153",
   "metadata": {},
   "source": [
    "#### 2. once your code is working correctly, then define it as a function"
   ]
  },
  {
   "cell_type": "code",
   "execution_count": 33,
   "id": "5bb09baf",
   "metadata": {},
   "outputs": [],
   "source": [
    "def loud_string(input_string):\n",
    "    input_string = input_string.upper()\n",
    "    input_string = input_string + '!!!'\n",
    "    return input_string"
   ]
  },
  {
   "cell_type": "markdown",
   "id": "9cc975ee",
   "metadata": {},
   "source": [
    "#### 3. call and test your function"
   ]
  },
  {
   "cell_type": "code",
   "execution_count": 34,
   "id": "6bff5eae",
   "metadata": {},
   "outputs": [
    {
     "data": {
      "text/plain": [
       "'JUPITER APPLES!!!'"
      ]
     },
     "execution_count": 34,
     "metadata": {},
     "output_type": "execute_result"
    }
   ],
   "source": [
    "loud_string(test)"
   ]
  },
  {
   "cell_type": "code",
   "execution_count": 35,
   "id": "a507e3a6",
   "metadata": {},
   "outputs": [
    {
     "data": {
      "text/plain": [
       "'CAN DO ATTITUDE!!!'"
      ]
     },
     "execution_count": 35,
     "metadata": {},
     "output_type": "execute_result"
    }
   ],
   "source": [
    "loud_string('can do attitude')"
   ]
  },
  {
   "cell_type": "markdown",
   "id": "31f5953d",
   "metadata": {},
   "source": [
    "### arguments"
   ]
  },
  {
   "cell_type": "markdown",
   "id": "7910c606",
   "metadata": {},
   "source": [
    "-- argument: the value a function is called with"
   ]
  },
  {
   "cell_type": "markdown",
   "id": "616e6329",
   "metadata": {},
   "source": [
    "#### multiples"
   ]
  },
  {
   "cell_type": "code",
   "execution_count": 36,
   "id": "4d2ffa21",
   "metadata": {},
   "outputs": [],
   "source": [
    "def add_things(a,b): #takes two arguments\n",
    "    result = a + b\n",
    "    return result"
   ]
  },
  {
   "cell_type": "code",
   "execution_count": 37,
   "id": "d9f907fd",
   "metadata": {},
   "outputs": [
    {
     "data": {
      "text/plain": [
       "36"
      ]
     },
     "execution_count": 37,
     "metadata": {},
     "output_type": "execute_result"
    }
   ],
   "source": [
    "add_things(34,2)"
   ]
  },
  {
   "cell_type": "markdown",
   "id": "dbaef53e",
   "metadata": {},
   "source": [
    "- the arguments are 5 and 10"
   ]
  },
  {
   "cell_type": "markdown",
   "id": "4168eb7c",
   "metadata": {},
   "source": [
    "### positional arguments"
   ]
  },
  {
   "cell_type": "code",
   "execution_count": 39,
   "id": "3ff6d476",
   "metadata": {},
   "outputs": [],
   "source": [
    "def do_things(a,b):\n",
    "    a = a + 1\n",
    "    b = b * -1000\n",
    "    return a,b"
   ]
  },
  {
   "cell_type": "code",
   "execution_count": 40,
   "id": "bd23c91d",
   "metadata": {},
   "outputs": [
    {
     "data": {
      "text/plain": [
       "(15, -9000)"
      ]
     },
     "execution_count": 40,
     "metadata": {},
     "output_type": "execute_result"
    }
   ],
   "source": [
    "do_things(14,9)"
   ]
  },
  {
   "cell_type": "markdown",
   "id": "e6a4651d",
   "metadata": {},
   "source": [
    "### kwargs (keyword arguments)"
   ]
  },
  {
   "cell_type": "code",
   "execution_count": 41,
   "id": "52e54b6d",
   "metadata": {},
   "outputs": [
    {
     "data": {
      "text/plain": [
       "(11, -5000)"
      ]
     },
     "execution_count": 41,
     "metadata": {},
     "output_type": "execute_result"
    }
   ],
   "source": [
    "#call do_things by keyword\n",
    "do_things(b=5, a=10)"
   ]
  },
  {
   "cell_type": "markdown",
   "id": "826f90c8",
   "metadata": {},
   "source": [
    "* calling things by keyword can reduce positional argument pain.\n",
    "* have to be sure you are keyword calling the correct variable"
   ]
  },
  {
   "cell_type": "code",
   "execution_count": 42,
   "id": "00b2f7f8",
   "metadata": {},
   "outputs": [
    {
     "data": {
      "text/plain": [
       "(6, -100000)"
      ]
     },
     "execution_count": 42,
     "metadata": {},
     "output_type": "execute_result"
    }
   ],
   "source": [
    "do_things(a=5, b=100)"
   ]
  },
  {
   "cell_type": "markdown",
   "id": "c7502c26",
   "metadata": {},
   "source": [
    "* GREAT PRACTICE for writing long strings of code AND for readability"
   ]
  },
  {
   "cell_type": "markdown",
   "id": "767a781b",
   "metadata": {},
   "source": [
    "### default values"
   ]
  },
  {
   "cell_type": "code",
   "execution_count": 43,
   "id": "4cfdd790",
   "metadata": {},
   "outputs": [],
   "source": [
    "def do_things_extra(a=200, b=5): #defining default values\n",
    "    a = a + 1\n",
    "    b = b * -1000\n",
    "    return(a,b)"
   ]
  },
  {
   "cell_type": "code",
   "execution_count": 44,
   "id": "b4810105",
   "metadata": {},
   "outputs": [
    {
     "data": {
      "text/plain": [
       "(201, -5000)"
      ]
     },
     "execution_count": 44,
     "metadata": {},
     "output_type": "execute_result"
    }
   ],
   "source": [
    "do_things_extra()"
   ]
  },
  {
   "cell_type": "markdown",
   "id": "22ecbef4",
   "metadata": {},
   "source": [
    "* don't have to send in positional arguments as they are already defined"
   ]
  },
  {
   "cell_type": "code",
   "execution_count": 45,
   "id": "c65ff749",
   "metadata": {},
   "outputs": [
    {
     "data": {
      "text/plain": [
       "(9, -5000)"
      ]
     },
     "execution_count": 45,
     "metadata": {},
     "output_type": "execute_result"
    }
   ],
   "source": [
    "do_things_extra(8)"
   ]
  },
  {
   "cell_type": "code",
   "execution_count": 48,
   "id": "be1a7227",
   "metadata": {},
   "outputs": [
    {
     "data": {
      "text/plain": [
       "(201, -5000)"
      ]
     },
     "execution_count": 48,
     "metadata": {},
     "output_type": "execute_result"
    }
   ],
   "source": [
    "do_things_extra() # goes right back to the default values"
   ]
  },
  {
   "cell_type": "markdown",
   "id": "26395a8e",
   "metadata": {},
   "source": [
    "#### unpacking arguments"
   ]
  },
  {
   "cell_type": "code",
   "execution_count": 49,
   "id": "f6a226f7",
   "metadata": {},
   "outputs": [],
   "source": [
    "#by list\n",
    "args = [5,10]"
   ]
  },
  {
   "cell_type": "code",
   "execution_count": 50,
   "id": "bf2f6c03",
   "metadata": {},
   "outputs": [
    {
     "data": {
      "text/plain": [
       "(6, -10000)"
      ]
     },
     "execution_count": 50,
     "metadata": {},
     "output_type": "execute_result"
    }
   ],
   "source": [
    "do_things(*args)"
   ]
  },
  {
   "cell_type": "markdown",
   "id": "b61adeba",
   "metadata": {},
   "source": [
    "- to pull each piece from the list, we need the *\n",
    "- list has to have equal number of arguments requested from the function"
   ]
  },
  {
   "cell_type": "code",
   "execution_count": 52,
   "id": "1b62cdbb",
   "metadata": {},
   "outputs": [],
   "source": [
    "#by dictionary\n",
    "kwargs = {'b': 50, 'a':2}"
   ]
  },
  {
   "cell_type": "code",
   "execution_count": 53,
   "id": "c7d1c2f5",
   "metadata": {},
   "outputs": [
    {
     "data": {
      "text/plain": [
       "(3, -50000)"
      ]
     },
     "execution_count": 53,
     "metadata": {},
     "output_type": "execute_result"
    }
   ],
   "source": [
    "do_things(**kwargs)"
   ]
  },
  {
   "cell_type": "markdown",
   "id": "4c2f7e32",
   "metadata": {},
   "source": [
    "- the ** allow us to unpack the dictionary by argument name"
   ]
  },
  {
   "cell_type": "markdown",
   "id": "1d0a38f4",
   "metadata": {},
   "source": [
    "### scope"
   ]
  },
  {
   "cell_type": "code",
   "execution_count": 54,
   "id": "522940c4",
   "metadata": {},
   "outputs": [],
   "source": [
    "outside_number = 10"
   ]
  },
  {
   "cell_type": "code",
   "execution_count": 58,
   "id": "88eff03b",
   "metadata": {},
   "outputs": [
    {
     "name": "stdout",
     "output_type": "stream",
     "text": [
      "hello\n"
     ]
    }
   ],
   "source": [
    "def do_math(func_numb):\n",
    "    print(outside_number) # GLOBAL\n",
    "    print(func_numb) # IN FUNCTION\n",
    "        # used prints! will not be able to save to a variable\n",
    "print('hello')"
   ]
  },
  {
   "cell_type": "code",
   "execution_count": 56,
   "id": "efb6ad90",
   "metadata": {},
   "outputs": [
    {
     "name": "stdout",
     "output_type": "stream",
     "text": [
      "10\n",
      "10\n"
     ]
    }
   ],
   "source": [
    "do_math(10)"
   ]
  },
  {
   "cell_type": "markdown",
   "id": "fd334023",
   "metadata": {},
   "source": [
    "- the outside_number exists outside of the function and acts as a global\n",
    "- variable"
   ]
  },
  {
   "cell_type": "markdown",
   "id": "5c008ef7",
   "metadata": {},
   "source": [
    "### lambda"
   ]
  },
  {
   "cell_type": "markdown",
   "id": "01079553",
   "metadata": {},
   "source": [
    "- a function that can be created in one line, when you have a one line return statement "
   ]
  },
  {
   "cell_type": "code",
   "execution_count": null,
   "id": "fe88bc14",
   "metadata": {},
   "outputs": [],
   "source": [
    "# FORMAT: \n",
    "# [function_name] = lambda [variable] : [transform_variable] "
   ]
  },
  {
   "cell_type": "code",
   "execution_count": 59,
   "id": "e0080e57",
   "metadata": {},
   "outputs": [],
   "source": [
    "# long way\n",
    "def add_one_try_again(n):\n",
    "    return n + 1"
   ]
  },
  {
   "cell_type": "code",
   "execution_count": 60,
   "id": "521f671d",
   "metadata": {},
   "outputs": [
    {
     "data": {
      "text/plain": [
       "6"
      ]
     },
     "execution_count": 60,
     "metadata": {},
     "output_type": "execute_result"
    }
   ],
   "source": [
    "add_one_try_again(5)"
   ]
  },
  {
   "cell_type": "code",
   "execution_count": 62,
   "id": "37d727e6",
   "metadata": {},
   "outputs": [],
   "source": [
    "new_add_one = lambda n : n + 1"
   ]
  },
  {
   "cell_type": "code",
   "execution_count": 63,
   "id": "a8c950eb",
   "metadata": {},
   "outputs": [
    {
     "data": {
      "text/plain": [
       "7"
      ]
     },
     "execution_count": 63,
     "metadata": {},
     "output_type": "execute_result"
    }
   ],
   "source": [
    "new_add_one(6)"
   ]
  },
  {
   "cell_type": "code",
   "execution_count": 64,
   "id": "e81a2e06",
   "metadata": {},
   "outputs": [],
   "source": [
    "try_this = lambda n,x : n + 1/x"
   ]
  },
  {
   "cell_type": "code",
   "execution_count": 66,
   "id": "13e126ea",
   "metadata": {},
   "outputs": [
    {
     "data": {
      "text/plain": [
       "8.5"
      ]
     },
     "execution_count": 66,
     "metadata": {},
     "output_type": "execute_result"
    }
   ],
   "source": [
    "try_this(8,2)"
   ]
  },
  {
   "cell_type": "markdown",
   "id": "d9c001bc",
   "metadata": {},
   "source": [
    "multiple things but in one operation"
   ]
  }
 ],
 "metadata": {
  "kernelspec": {
   "display_name": "Python 3 (ipykernel)",
   "language": "python",
   "name": "python3"
  },
  "language_info": {
   "codemirror_mode": {
    "name": "ipython",
    "version": 3
   },
   "file_extension": ".py",
   "mimetype": "text/x-python",
   "name": "python",
   "nbconvert_exporter": "python",
   "pygments_lexer": "ipython3",
   "version": "3.9.13"
  }
 },
 "nbformat": 4,
 "nbformat_minor": 5
}
