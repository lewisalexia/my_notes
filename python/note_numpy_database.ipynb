{
 "cells": [
  {
   "cell_type": "markdown",
   "id": "75f92f8b",
   "metadata": {},
   "source": [
    "## Numpy: 'the backbone of machine learning'"
   ]
  },
  {
   "cell_type": "markdown",
   "id": "4fc9187a",
   "metadata": {},
   "source": [
    "- Library = collection of packages\n",
    "- Package = collection of modules\n",
    "- Module = collection of files (.py, scripts, etc)"
   ]
  },
  {
   "cell_type": "code",
   "execution_count": 1,
   "id": "ed0e8902",
   "metadata": {},
   "outputs": [],
   "source": [
    "import numpy as np"
   ]
  },
  {
   "cell_type": "markdown",
   "id": "e8194504",
   "metadata": {},
   "source": [
    "the main backbone of Numpy is an array which is a list inside of paranthesis: np.array([1,2,3,4,5])"
   ]
  },
  {
   "cell_type": "code",
   "execution_count": 48,
   "id": "d710781e",
   "metadata": {},
   "outputs": [],
   "source": [
    "my_array = np.array([1,2,3,4,5])"
   ]
  },
  {
   "cell_type": "code",
   "execution_count": 4,
   "id": "d419ca22",
   "metadata": {},
   "outputs": [
    {
     "data": {
      "text/plain": [
       "array([1, 2, 3, 4, 5])"
      ]
     },
     "execution_count": 4,
     "metadata": {},
     "output_type": "execute_result"
    }
   ],
   "source": [
    "my_array"
   ]
  },
  {
   "cell_type": "markdown",
   "id": "648e8853",
   "metadata": {},
   "source": [
    "* referenced similarily to a list by using indexing"
   ]
  },
  {
   "cell_type": "code",
   "execution_count": 5,
   "id": "60389ce0",
   "metadata": {},
   "outputs": [
    {
     "data": {
      "text/plain": [
       "3"
      ]
     },
     "execution_count": 5,
     "metadata": {},
     "output_type": "execute_result"
    }
   ],
   "source": [
    "my_array[2]"
   ]
  },
  {
   "cell_type": "markdown",
   "id": "1b82c62c",
   "metadata": {},
   "source": [
    "Multidimensional lists is where Numpy comes to save the day"
   ]
  },
  {
   "cell_type": "code",
   "execution_count": 6,
   "id": "5a915ceb",
   "metadata": {},
   "outputs": [],
   "source": [
    "list_of_lists = [\n",
    "    [1,2,3],\n",
    "    [4,5,6],\n",
    "    [7,8,9]\n",
    "]"
   ]
  },
  {
   "cell_type": "markdown",
   "id": "3c4d4e63",
   "metadata": {},
   "source": [
    "* does NOT keep the shape, returns in line format seperated by commas"
   ]
  },
  {
   "cell_type": "code",
   "execution_count": 7,
   "id": "8d7994fb",
   "metadata": {},
   "outputs": [
    {
     "data": {
      "text/plain": [
       "[[1, 2, 3], [4, 5, 6], [7, 8, 9]]"
      ]
     },
     "execution_count": 7,
     "metadata": {},
     "output_type": "execute_result"
    }
   ],
   "source": [
    "list_of_lists"
   ]
  },
  {
   "cell_type": "code",
   "execution_count": 10,
   "id": "83385498",
   "metadata": {},
   "outputs": [
    {
     "data": {
      "text/plain": [
       "[1, 2, 3]"
      ]
     },
     "execution_count": 10,
     "metadata": {},
     "output_type": "execute_result"
    }
   ],
   "source": [
    "list_of_lists[0]"
   ]
  },
  {
   "cell_type": "code",
   "execution_count": 11,
   "id": "483b59ed",
   "metadata": {},
   "outputs": [
    {
     "data": {
      "text/plain": [
       "2"
      ]
     },
     "execution_count": 11,
     "metadata": {},
     "output_type": "execute_result"
    }
   ],
   "source": [
    "list_of_lists[0][1]"
   ]
  },
  {
   "cell_type": "code",
   "execution_count": 14,
   "id": "aedb85e9",
   "metadata": {},
   "outputs": [],
   "source": [
    "matrix = np.array([\n",
    "    [1,2,3],\n",
    "    [4,5,6],\n",
    "    [7,8,9]])"
   ]
  },
  {
   "cell_type": "code",
   "execution_count": 15,
   "id": "e7a32119",
   "metadata": {},
   "outputs": [
    {
     "data": {
      "text/plain": [
       "array([[1, 2, 3],\n",
       "       [4, 5, 6],\n",
       "       [7, 8, 9]])"
      ]
     },
     "execution_count": 15,
     "metadata": {},
     "output_type": "execute_result"
    }
   ],
   "source": [
    "matrix"
   ]
  },
  {
   "cell_type": "code",
   "execution_count": 16,
   "id": "c6c1f32e",
   "metadata": {},
   "outputs": [
    {
     "data": {
      "text/plain": [
       "2"
      ]
     },
     "execution_count": 16,
     "metadata": {},
     "output_type": "execute_result"
    }
   ],
   "source": [
    "matrix[0,1]"
   ]
  },
  {
   "cell_type": "markdown",
   "id": "27db58ab",
   "metadata": {},
   "source": [
    "^^ going down the first row and grabbing the second column"
   ]
  },
  {
   "cell_type": "markdown",
   "id": "d105ebc5",
   "metadata": {},
   "source": [
    "* Matrix = Row X Column\n",
    "* Matrix KEEPS the shape of the input\n",
    "* using np.nan turns integers into floats?"
   ]
  },
  {
   "cell_type": "markdown",
   "id": "6993f351",
   "metadata": {},
   "source": [
    "** can use slicing **\n",
    "* matrix[1:] grabs all of the columns"
   ]
  },
  {
   "cell_type": "code",
   "execution_count": 17,
   "id": "d816cb11",
   "metadata": {},
   "outputs": [
    {
     "data": {
      "text/plain": [
       "array([[4, 5, 6],\n",
       "       [7, 8, 9]])"
      ]
     },
     "execution_count": 17,
     "metadata": {},
     "output_type": "execute_result"
    }
   ],
   "source": [
    "matrix[1:]"
   ]
  },
  {
   "cell_type": "code",
   "execution_count": 20,
   "id": "1efdef15",
   "metadata": {},
   "outputs": [
    {
     "data": {
      "text/plain": [
       "array([[1, 2, 3]])"
      ]
     },
     "execution_count": 20,
     "metadata": {},
     "output_type": "execute_result"
    }
   ],
   "source": [
    "matrix[:1]"
   ]
  },
  {
   "cell_type": "code",
   "execution_count": 19,
   "id": "ff0b01e8",
   "metadata": {},
   "outputs": [
    {
     "data": {
      "text/plain": [
       "array([[4, 5, 6]])"
      ]
     },
     "execution_count": 19,
     "metadata": {},
     "output_type": "execute_result"
    }
   ],
   "source": [
    "matrix[1:2]"
   ]
  },
  {
   "cell_type": "markdown",
   "id": "278fa257",
   "metadata": {},
   "source": [
    "### I do not understand slicing and splicing with arrays"
   ]
  },
  {
   "cell_type": "markdown",
   "id": "c57e7b87",
   "metadata": {},
   "source": [
    "Boolean Mask = [False, True, False, True]\n",
    "\n",
    "\"A customer that pays a certain amount per month that you want to look at\" is an example"
   ]
  },
  {
   "cell_type": "code",
   "execution_count": 34,
   "id": "e2254bd9",
   "metadata": {},
   "outputs": [],
   "source": [
    "mask = [False, True, False, True, False]"
   ]
  },
  {
   "cell_type": "code",
   "execution_count": 35,
   "id": "c0cd88d3",
   "metadata": {},
   "outputs": [
    {
     "data": {
      "text/plain": [
       "array([2, 4])"
      ]
     },
     "execution_count": 35,
     "metadata": {},
     "output_type": "execute_result"
    }
   ],
   "source": [
    "my_array[mask]"
   ]
  },
  {
   "cell_type": "code",
   "execution_count": 36,
   "id": "157b1619",
   "metadata": {},
   "outputs": [],
   "source": [
    "matrix_mask = [False, True, False,],[False, True, False]"
   ]
  },
  {
   "cell_type": "code",
   "execution_count": 37,
   "id": "97b35c97",
   "metadata": {},
   "outputs": [
    {
     "data": {
      "text/plain": [
       "array([5])"
      ]
     },
     "execution_count": 37,
     "metadata": {},
     "output_type": "execute_result"
    }
   ],
   "source": [
    "matrix[matrix_mask]"
   ]
  },
  {
   "cell_type": "markdown",
   "id": "b370f2e4",
   "metadata": {},
   "source": [
    "* returns the mask without the shape"
   ]
  },
  {
   "cell_type": "code",
   "execution_count": 41,
   "id": "86d0316d",
   "metadata": {},
   "outputs": [
    {
     "data": {
      "text/plain": [
       "[2, 3, 4, 5, 6]"
      ]
     },
     "execution_count": 41,
     "metadata": {},
     "output_type": "execute_result"
    }
   ],
   "source": [
    "my_list = [1,2,3,4,5]\n",
    "list_plus_one = []\n",
    "\n",
    "for i in my_list:\n",
    "    list_plus_one.append(i+1)\n",
    "list_plus_one"
   ]
  },
  {
   "cell_type": "code",
   "execution_count": 42,
   "id": "dec4fd46",
   "metadata": {},
   "outputs": [
    {
     "data": {
      "text/plain": [
       "[2, 3, 4, 5, 6]"
      ]
     },
     "execution_count": 42,
     "metadata": {},
     "output_type": "execute_result"
    }
   ],
   "source": [
    "[i+1 for i in my_list]"
   ]
  },
  {
   "cell_type": "code",
   "execution_count": 43,
   "id": "6597545a",
   "metadata": {},
   "outputs": [
    {
     "data": {
      "text/plain": [
       "array([2, 3, 4, 5, 6])"
      ]
     },
     "execution_count": 43,
     "metadata": {},
     "output_type": "execute_result"
    }
   ],
   "source": [
    "my_array + 1"
   ]
  },
  {
   "cell_type": "code",
   "execution_count": 44,
   "id": "40c219ae",
   "metadata": {},
   "outputs": [
    {
     "data": {
      "text/plain": [
       "array([-4, -3, -2, -1,  0])"
      ]
     },
     "execution_count": 44,
     "metadata": {},
     "output_type": "execute_result"
    }
   ],
   "source": [
    "my_array - 5 "
   ]
  },
  {
   "cell_type": "code",
   "execution_count": 46,
   "id": "8e718ef2",
   "metadata": {},
   "outputs": [
    {
     "data": {
      "text/plain": [
       "array([10, 20, 30, 40, 50])"
      ]
     },
     "execution_count": 46,
     "metadata": {},
     "output_type": "execute_result"
    }
   ],
   "source": [
    "my_array * 10"
   ]
  },
  {
   "cell_type": "code",
   "execution_count": 47,
   "id": "186ccec5",
   "metadata": {},
   "outputs": [
    {
     "data": {
      "text/plain": [
       "array([0.33333333, 0.66666667, 1.        , 1.33333333, 1.66666667])"
      ]
     },
     "execution_count": 47,
     "metadata": {},
     "output_type": "execute_result"
    }
   ],
   "source": [
    "my_array / 3"
   ]
  },
  {
   "cell_type": "code",
   "execution_count": 49,
   "id": "01273d51",
   "metadata": {},
   "outputs": [
    {
     "data": {
      "text/plain": [
       "array([1, 2, 3, 4, 5])"
      ]
     },
     "execution_count": 49,
     "metadata": {},
     "output_type": "execute_result"
    }
   ],
   "source": [
    "my_array"
   ]
  },
  {
   "cell_type": "markdown",
   "id": "5ce9c49f",
   "metadata": {},
   "source": [
    "When using boolean masking with arrays\n",
    "1. filter\n",
    "2. manipulate"
   ]
  },
  {
   "cell_type": "markdown",
   "id": "a55e4397",
   "metadata": {},
   "source": [
    "#### comparisons with operators IS the beginning to predictive modeling and filtering the data"
   ]
  },
  {
   "cell_type": "code",
   "execution_count": 50,
   "id": "d4364bd8",
   "metadata": {},
   "outputs": [
    {
     "data": {
      "text/plain": [
       "array([False, False,  True,  True,  True])"
      ]
     },
     "execution_count": 50,
     "metadata": {},
     "output_type": "execute_result"
    }
   ],
   "source": [
    "my_array > 2"
   ]
  },
  {
   "cell_type": "markdown",
   "id": "8c8d4b26",
   "metadata": {},
   "source": [
    "What if I want my numbers? Or the 'name' of the mask?"
   ]
  },
  {
   "cell_type": "code",
   "execution_count": 51,
   "id": "82398c04",
   "metadata": {},
   "outputs": [
    {
     "data": {
      "text/plain": [
       "array([3, 4, 5])"
      ]
     },
     "execution_count": 51,
     "metadata": {},
     "output_type": "execute_result"
    }
   ],
   "source": [
    "my_array[my_array > 2]"
   ]
  },
  {
   "cell_type": "markdown",
   "id": "a80fdbe3",
   "metadata": {},
   "source": [
    "Using AND/OR statements works too!\n",
    "* have to use byte-wise operators"
   ]
  },
  {
   "cell_type": "code",
   "execution_count": 52,
   "id": "77c364bb",
   "metadata": {},
   "outputs": [
    {
     "data": {
      "text/plain": [
       "array([3])"
      ]
     },
     "execution_count": 52,
     "metadata": {},
     "output_type": "execute_result"
    }
   ],
   "source": [
    "my_array[(my_array > 2) & (my_array < 4)]"
   ]
  },
  {
   "cell_type": "markdown",
   "id": "aacc5abe",
   "metadata": {},
   "source": [
    "* byte-wise with numbers\n",
    "* logical operators with phrasing and other values\n",
    "\n",
    "\n",
    "* even = my_array[(my_array % 2 == 0)\n",
    "* odd = my_array[(my_array % 2 == 1)"
   ]
  },
  {
   "cell_type": "code",
   "execution_count": 57,
   "id": "d9a16508",
   "metadata": {},
   "outputs": [
    {
     "data": {
      "text/plain": [
       "array([3, 5])"
      ]
     },
     "execution_count": 57,
     "metadata": {},
     "output_type": "execute_result"
    }
   ],
   "source": [
    "my_array[(my_array % 2 == 1) & (my_array > 2)]"
   ]
  },
  {
   "cell_type": "code",
   "execution_count": 59,
   "id": "95ae4870",
   "metadata": {},
   "outputs": [
    {
     "data": {
      "text/plain": [
       "array([-0.89760128, -0.6404043 , -0.80266829,  1.15034918,  0.5198909 ,\n",
       "        1.06317091,  0.37338185, -0.55334109, -1.39373046,  0.03499589])"
      ]
     },
     "execution_count": 59,
     "metadata": {},
     "output_type": "execute_result"
    }
   ],
   "source": [
    "np.random.randn(10)"
   ]
  },
  {
   "cell_type": "markdown",
   "id": "d2ba2490",
   "metadata": {},
   "source": [
    "Normal = Bell = Dossi(?) Distribution Curve\n",
    "\n",
    "USE SEABORN FOR VISUAL DISPLAYS OF INFORMATION"
   ]
  },
  {
   "cell_type": "code",
   "execution_count": 66,
   "id": "98b2d0ff",
   "metadata": {},
   "outputs": [
    {
     "data": {
      "text/plain": [
       "array([[-2.06960223,  0.05754884, -0.8833404 ],\n",
       "       [-1.45490448,  0.21710383, -1.42459846],\n",
       "       [ 0.04107258, -0.589331  , -0.83619401]])"
      ]
     },
     "execution_count": 66,
     "metadata": {},
     "output_type": "execute_result"
    }
   ],
   "source": [
    "np.random.randn(3,3) # (x,x) means x by x, row x column for a random distribution"
   ]
  },
  {
   "cell_type": "code",
   "execution_count": 62,
   "id": "8276824e",
   "metadata": {},
   "outputs": [
    {
     "data": {
      "text/plain": [
       "array([[0., 0., 0.],\n",
       "       [0., 0., 0.],\n",
       "       [0., 0., 0.]])"
      ]
     },
     "execution_count": 62,
     "metadata": {},
     "output_type": "execute_result"
    }
   ],
   "source": [
    "np.zeros((3,3)) # fills a matrix full of zeros!"
   ]
  },
  {
   "cell_type": "code",
   "execution_count": 63,
   "id": "7f9bdd46",
   "metadata": {},
   "outputs": [
    {
     "data": {
      "text/plain": [
       "array([[1., 1., 1.],\n",
       "       [1., 1., 1.],\n",
       "       [1., 1., 1.]])"
      ]
     },
     "execution_count": 63,
     "metadata": {},
     "output_type": "execute_result"
    }
   ],
   "source": [
    "np.ones((3,3)) # fills a matrix full of ones!"
   ]
  },
  {
   "cell_type": "code",
   "execution_count": 65,
   "id": "2b5eefda",
   "metadata": {},
   "outputs": [
    {
     "data": {
      "text/plain": [
       "array([[10, 10, 10],\n",
       "       [10, 10, 10],\n",
       "       [10, 10, 10]])"
      ]
     },
     "execution_count": 65,
     "metadata": {},
     "output_type": "execute_result"
    }
   ],
   "source": [
    "np.full((3,3), 10) # fills a matrix of size by size, value"
   ]
  },
  {
   "cell_type": "code",
   "execution_count": 67,
   "id": "8a78855c",
   "metadata": {},
   "outputs": [
    {
     "data": {
      "text/plain": [
       "array([0, 1, 2, 3, 4, 5, 6, 7, 8, 9])"
      ]
     },
     "execution_count": 67,
     "metadata": {},
     "output_type": "execute_result"
    }
   ],
   "source": [
    "np.arange(10) # not inclusive, gives array in the range specified"
   ]
  },
  {
   "cell_type": "code",
   "execution_count": 70,
   "id": "1b7eef94",
   "metadata": {},
   "outputs": [
    {
     "data": {
      "text/plain": [
       "array([1, 2, 3, 4, 5, 6, 7, 8, 9])"
      ]
     },
     "execution_count": 70,
     "metadata": {},
     "output_type": "execute_result"
    }
   ],
   "source": [
    "np.arange(1, 10) # NO ZERO"
   ]
  },
  {
   "cell_type": "code",
   "execution_count": 72,
   "id": "556def73",
   "metadata": {},
   "outputs": [
    {
     "data": {
      "text/plain": [
       "array([1, 3, 5, 7, 9])"
      ]
     },
     "execution_count": 72,
     "metadata": {},
     "output_type": "execute_result"
    }
   ],
   "source": [
    "np.arange(1, 10, 2) # start at one, end at 10, step every 2 "
   ]
  },
  {
   "cell_type": "code",
   "execution_count": 75,
   "id": "1e2856de",
   "metadata": {},
   "outputs": [
    {
     "data": {
      "text/plain": [
       "array([1. , 1.5, 2. , 2.5, 3. , 3.5, 4. , 4.5])"
      ]
     },
     "execution_count": 75,
     "metadata": {},
     "output_type": "execute_result"
    }
   ],
   "source": [
    "np.arange(1,5,0.5) # works with decimals too"
   ]
  },
  {
   "cell_type": "markdown",
   "id": "05073d6a",
   "metadata": {},
   "source": [
    "We use this to generate simulated data to SEE the relationship between X and Y before adding in data"
   ]
  },
  {
   "cell_type": "code",
   "execution_count": 79,
   "id": "64b6c238",
   "metadata": {},
   "outputs": [
    {
     "data": {
      "text/plain": [
       "array([1.  , 1.75, 2.5 , 3.25, 4.  ])"
      ]
     },
     "execution_count": 79,
     "metadata": {},
     "output_type": "execute_result"
    }
   ],
   "source": [
    "np.linspace(1,4,5) # not inclusive # splitting up the data into even 'bins' # we can specify what bin we want\n",
    "                    # helpful when doing plotting by creating these bins to pass in an \n",
    "                    # x-valule and plot in a y-value"
   ]
  },
  {
   "cell_type": "code",
   "execution_count": 80,
   "id": "2008f19f",
   "metadata": {},
   "outputs": [
    {
     "data": {
      "text/plain": [
       "array([1, 2, 3, 4, 5])"
      ]
     },
     "execution_count": 80,
     "metadata": {},
     "output_type": "execute_result"
    }
   ],
   "source": [
    "my_array"
   ]
  },
  {
   "cell_type": "markdown",
   "id": "3f90ee2a",
   "metadata": {},
   "source": [
    "### descriptive statistics"
   ]
  },
  {
   "cell_type": "code",
   "execution_count": 82,
   "id": "003039a7",
   "metadata": {
    "scrolled": true
   },
   "outputs": [
    {
     "data": {
      "text/plain": [
       "3.0"
      ]
     },
     "execution_count": 82,
     "metadata": {},
     "output_type": "execute_result"
    }
   ],
   "source": [
    "my_array.mean() # grabs descriptive statistics"
   ]
  },
  {
   "cell_type": "markdown",
   "id": "762cb366",
   "metadata": {},
   "source": [
    "Something inherent to classes - you can string functions at the end of the object IF the object is from the same library\n",
    "\n",
    "* we don't need to specify the library we are pulling these functions from because we applied the function TO the list\n",
    "    * we didn't put the object into the function"
   ]
  },
  {
   "cell_type": "code",
   "execution_count": 85,
   "id": "afd494d2",
   "metadata": {},
   "outputs": [
    {
     "data": {
      "text/plain": [
       "(3.0, 15, 5, 1, 1.4142135623730951)"
      ]
     },
     "execution_count": 85,
     "metadata": {},
     "output_type": "execute_result"
    }
   ],
   "source": [
    "my_array.mean(), my_array.sum(), my_array.max(), my_array.min(), my_array.std()"
   ]
  },
  {
   "cell_type": "code",
   "execution_count": 87,
   "id": "16b92b76",
   "metadata": {},
   "outputs": [
    {
     "data": {
      "text/plain": [
       "3.0"
      ]
     },
     "execution_count": 87,
     "metadata": {},
     "output_type": "execute_result"
    }
   ],
   "source": [
    "my_array.mean().sum().max().min() # huh?"
   ]
  }
 ],
 "metadata": {
  "kernelspec": {
   "display_name": "Python 3 (ipykernel)",
   "language": "python",
   "name": "python3"
  },
  "language_info": {
   "codemirror_mode": {
    "name": "ipython",
    "version": 3
   },
   "file_extension": ".py",
   "mimetype": "text/x-python",
   "name": "python",
   "nbconvert_exporter": "python",
   "pygments_lexer": "ipython3",
   "version": "3.9.13"
  }
 },
 "nbformat": 4,
 "nbformat_minor": 5
}
